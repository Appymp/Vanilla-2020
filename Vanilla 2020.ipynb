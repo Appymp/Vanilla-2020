{
 "cells": [
  {
   "cell_type": "code",
   "execution_count": 1,
   "metadata": {},
   "outputs": [
    {
     "name": "stderr",
     "output_type": "stream",
     "text": [
      "/Users/appanna/opt/anaconda3/lib/python3.7/site-packages/statsmodels/tools/_testing.py:19: FutureWarning: pandas.util.testing is deprecated. Use the functions in the public API at pandas.testing instead.\n",
      "  import pandas.util.testing as tm\n"
     ]
    }
   ],
   "source": [
    "import numpy as np\n",
    "import pandas as pd\n",
    "import seaborn as sns\n",
    "import matplotlib.pyplot as plt\n",
    "import matplotlib.animation as animation\n",
    "%matplotlib inline"
   ]
  },
  {
   "cell_type": "markdown",
   "metadata": {},
   "source": [
    "# Import Data"
   ]
  },
  {
   "cell_type": "code",
   "execution_count": 2,
   "metadata": {},
   "outputs": [
    {
     "data": {
      "text/html": [
       "<div>\n",
       "<style scoped>\n",
       "    .dataframe tbody tr th:only-of-type {\n",
       "        vertical-align: middle;\n",
       "    }\n",
       "\n",
       "    .dataframe tbody tr th {\n",
       "        vertical-align: top;\n",
       "    }\n",
       "\n",
       "    .dataframe thead th {\n",
       "        text-align: right;\n",
       "    }\n",
       "</style>\n",
       "<table border=\"1\" class=\"dataframe\">\n",
       "  <thead>\n",
       "    <tr style=\"text-align: right;\">\n",
       "      <th></th>\n",
       "      <th>Date</th>\n",
       "      <th>Location</th>\n",
       "      <th>Total points</th>\n",
       "      <th>Points flowering</th>\n",
       "      <th>New flowers</th>\n",
       "      <th>Total Flowers</th>\n",
       "    </tr>\n",
       "  </thead>\n",
       "  <tbody>\n",
       "    <tr>\n",
       "      <th>0</th>\n",
       "      <td>12 Mar 20</td>\n",
       "      <td>3*2ag</td>\n",
       "      <td>8</td>\n",
       "      <td>NaN</td>\n",
       "      <td>0.0</td>\n",
       "      <td>NaN</td>\n",
       "    </tr>\n",
       "    <tr>\n",
       "      <th>1</th>\n",
       "      <td>12 Mar 20</td>\n",
       "      <td>3*3g</td>\n",
       "      <td>2</td>\n",
       "      <td>NaN</td>\n",
       "      <td>NaN</td>\n",
       "      <td>NaN</td>\n",
       "    </tr>\n",
       "    <tr>\n",
       "      <th>2</th>\n",
       "      <td>12 Mar 20</td>\n",
       "      <td>4*3a</td>\n",
       "      <td>9</td>\n",
       "      <td>NaN</td>\n",
       "      <td>1.0</td>\n",
       "      <td>NaN</td>\n",
       "    </tr>\n",
       "    <tr>\n",
       "      <th>3</th>\n",
       "      <td>12 Mar 20</td>\n",
       "      <td>4*2a</td>\n",
       "      <td>8</td>\n",
       "      <td>NaN</td>\n",
       "      <td>NaN</td>\n",
       "      <td>NaN</td>\n",
       "    </tr>\n",
       "    <tr>\n",
       "      <th>4</th>\n",
       "      <td>12 Mar 20</td>\n",
       "      <td>5*2a</td>\n",
       "      <td>1</td>\n",
       "      <td>NaN</td>\n",
       "      <td>NaN</td>\n",
       "      <td>NaN</td>\n",
       "    </tr>\n",
       "  </tbody>\n",
       "</table>\n",
       "</div>"
      ],
      "text/plain": [
       "        Date Location Total points Points flowering  New flowers Total Flowers\n",
       "0  12 Mar 20    3*2ag            8              NaN          0.0           NaN\n",
       "1  12 Mar 20     3*3g            2              NaN          NaN           NaN\n",
       "2  12 Mar 20     4*3a            9              NaN          1.0           NaN\n",
       "3  12 Mar 20     4*2a            8              NaN          NaN           NaN\n",
       "4  12 Mar 20     5*2a            1              NaN          NaN           NaN"
      ]
     },
     "execution_count": 2,
     "metadata": {},
     "output_type": "execute_result"
    }
   ],
   "source": [
    "# import data\n",
    "df=pd.read_csv('Vanilla 2020.csv')\n",
    "df.head()"
   ]
  },
  {
   "cell_type": "markdown",
   "metadata": {},
   "source": [
    "# Data cleaning"
   ]
  },
  {
   "cell_type": "code",
   "execution_count": 3,
   "metadata": {},
   "outputs": [
    {
     "data": {
      "text/plain": [
       "Index(['Date', 'Location', 'Total_points', 'Points_flowering', 'New_flowers',\n",
       "       'Total_Flowers'],\n",
       "      dtype='object')"
      ]
     },
     "execution_count": 3,
     "metadata": {},
     "output_type": "execute_result"
    }
   ],
   "source": [
    "df.columns=df.columns.str.replace(' ','_') #Rename columns to remove blank space\n",
    "df.columns"
   ]
  },
  {
   "cell_type": "code",
   "execution_count": 4,
   "metadata": {},
   "outputs": [
    {
     "data": {
      "text/plain": [
       "array(['12 Mar 20', '13 Mar 20', '16 Mar 20', '17 Mar 20', '18 Mar 20',\n",
       "       '19 Mar 20', '20 Mar 20', '21 Mar 20', '22 Mar 20', '23 Mar 20',\n",
       "       '24 Mar 20', '25 Mar 20', '26 Mar 20', '27 Mar 20', '28 Mar 20',\n",
       "       '29 Mar 20', '30 Mar 20', '31 Mar 20', '1 Apr 20', '2 Apr 20',\n",
       "       '3 Apr 20', '4 Apr 20', '5 Apr 20', '6 Apr 20', '7 Apr 20',\n",
       "       '8 Apr 20', '9 Apr 20', '10 Apr 20', '11 Apr 20', '12 Apr 20',\n",
       "       '13 Apr 20'], dtype=object)"
      ]
     },
     "execution_count": 4,
     "metadata": {},
     "output_type": "execute_result"
    }
   ],
   "source": [
    "# Check date range\n",
    "df1=df.copy() #make copy to preserve original dataframe\n",
    "df1['Date'].unique()"
   ]
  },
  {
   "cell_type": "code",
   "execution_count": 5,
   "metadata": {},
   "outputs": [
    {
     "data": {
      "text/plain": [
       "array(['19 Mar 20', '20 Mar 20', '21 Mar 20', '22 Mar 20', '23 Mar 20',\n",
       "       '24 Mar 20', '25 Mar 20', '26 Mar 20', '27 Mar 20', '28 Mar 20',\n",
       "       '29 Mar 20', '30 Mar 20', '31 Mar 20', '1 Apr 20', '2 Apr 20',\n",
       "       '3 Apr 20', '4 Apr 20', '5 Apr 20', '6 Apr 20', '7 Apr 20',\n",
       "       '8 Apr 20', '9 Apr 20', '10 Apr 20', '11 Apr 20', '12 Apr 20',\n",
       "       '13 Apr 20'], dtype=object)"
      ]
     },
     "execution_count": 5,
     "metadata": {},
     "output_type": "execute_result"
    }
   ],
   "source": [
    "# From which date do we have values for 'points flowering'\n",
    "#df.Date.loc[~df.Points_flowering.isnull()].iloc[0] \n",
    "df1.Date.loc[~df.Points_flowering.isnull()].unique()"
   ]
  },
  {
   "cell_type": "code",
   "execution_count": 6,
   "metadata": {},
   "outputs": [
    {
     "data": {
      "text/plain": [
       "array(['3*2ag', '3*3g', '4*3a', '4*2a', '5*2a', '5*2ag', '4*3a2g', '5*4a',\n",
       "       '5*4as', '6*5a', '7*3as', '7*3a', '7*2a', '7*a', '6*2a', '7*c',\n",
       "       '9*2a', '8*d', '8*3a', '8*3a2s', '10*as', '11*g', '12*g', '13*g',\n",
       "       '8*4a', '8*4a2s', '12*2ag', '15*2d', '17*a', '19*d', '20*a',\n",
       "       '23*3a', '10*s', '21*g', '8*4a ', '10*s ', '15*2d ', '5*2a ',\n",
       "       '7*3a3s', '7*3a2s', '7*a ', '10*2a', '16*m', '5*3as', '19*2d',\n",
       "       '25*3g', '19*m'], dtype=object)"
      ]
     },
     "execution_count": 6,
     "metadata": {},
     "output_type": "execute_result"
    }
   ],
   "source": [
    "# check unique locations\n",
    "df1['Location'].unique()"
   ]
  },
  {
   "cell_type": "code",
   "execution_count": 7,
   "metadata": {},
   "outputs": [
    {
     "data": {
      "text/html": [
       "<div>\n",
       "<style scoped>\n",
       "    .dataframe tbody tr th:only-of-type {\n",
       "        vertical-align: middle;\n",
       "    }\n",
       "\n",
       "    .dataframe tbody tr th {\n",
       "        vertical-align: top;\n",
       "    }\n",
       "\n",
       "    .dataframe thead th {\n",
       "        text-align: right;\n",
       "    }\n",
       "</style>\n",
       "<table border=\"1\" class=\"dataframe\">\n",
       "  <thead>\n",
       "    <tr style=\"text-align: right;\">\n",
       "      <th></th>\n",
       "      <th>Date</th>\n",
       "      <th>Location</th>\n",
       "      <th>Total_points</th>\n",
       "      <th>Points_flowering</th>\n",
       "      <th>New_flowers</th>\n",
       "      <th>Total_Flowers</th>\n",
       "    </tr>\n",
       "  </thead>\n",
       "  <tbody>\n",
       "    <tr>\n",
       "      <th>147</th>\n",
       "      <td>19 Mar 20</td>\n",
       "      <td>6*2a</td>\n",
       "      <td>2-&gt;1</td>\n",
       "      <td>0</td>\n",
       "      <td>0.0</td>\n",
       "      <td>NaN</td>\n",
       "    </tr>\n",
       "    <tr>\n",
       "      <th>349</th>\n",
       "      <td>25 Mar 20</td>\n",
       "      <td>7*3a</td>\n",
       "      <td>5-&gt;2</td>\n",
       "      <td>2</td>\n",
       "      <td>0.0</td>\n",
       "      <td>NaN</td>\n",
       "    </tr>\n",
       "    <tr>\n",
       "      <th>356</th>\n",
       "      <td>25 Mar 20</td>\n",
       "      <td>10*s</td>\n",
       "      <td>6-&gt;8</td>\n",
       "      <td>0</td>\n",
       "      <td>0.0</td>\n",
       "      <td>NaN</td>\n",
       "    </tr>\n",
       "    <tr>\n",
       "      <th>358</th>\n",
       "      <td>25 Mar 20</td>\n",
       "      <td>10*as</td>\n",
       "      <td>2-&gt;3</td>\n",
       "      <td>0</td>\n",
       "      <td>0.0</td>\n",
       "      <td>NaN</td>\n",
       "    </tr>\n",
       "    <tr>\n",
       "      <th>360</th>\n",
       "      <td>25 Mar 20</td>\n",
       "      <td>11*g</td>\n",
       "      <td>2-&gt;3</td>\n",
       "      <td>0</td>\n",
       "      <td>0.0</td>\n",
       "      <td>NaN</td>\n",
       "    </tr>\n",
       "    <tr>\n",
       "      <th>400</th>\n",
       "      <td>26 Mar 20</td>\n",
       "      <td>15*2d</td>\n",
       "      <td>1-&gt;2</td>\n",
       "      <td>1</td>\n",
       "      <td>0.0</td>\n",
       "      <td>NaN</td>\n",
       "    </tr>\n",
       "    <tr>\n",
       "      <th>421</th>\n",
       "      <td>27 Mar 20</td>\n",
       "      <td>8*4a2s</td>\n",
       "      <td>2-&gt;3</td>\n",
       "      <td>0</td>\n",
       "      <td>0.0</td>\n",
       "      <td>NaN</td>\n",
       "    </tr>\n",
       "    <tr>\n",
       "      <th>426</th>\n",
       "      <td>27 Mar 20</td>\n",
       "      <td>7*2a</td>\n",
       "      <td>1-&gt;2</td>\n",
       "      <td>1</td>\n",
       "      <td>0.0</td>\n",
       "      <td>NaN</td>\n",
       "    </tr>\n",
       "    <tr>\n",
       "      <th>438</th>\n",
       "      <td>27 Mar 20</td>\n",
       "      <td>15*2d</td>\n",
       "      <td>1-&gt;2</td>\n",
       "      <td>1</td>\n",
       "      <td>1.0</td>\n",
       "      <td>NaN</td>\n",
       "    </tr>\n",
       "    <tr>\n",
       "      <th>447</th>\n",
       "      <td>28 Mar 20</td>\n",
       "      <td>4*3a2g</td>\n",
       "      <td>11-&gt;12</td>\n",
       "      <td>0</td>\n",
       "      <td>0.0</td>\n",
       "      <td>NaN</td>\n",
       "    </tr>\n",
       "    <tr>\n",
       "      <th>470</th>\n",
       "      <td>28 Mar 20</td>\n",
       "      <td>10*as</td>\n",
       "      <td>3-&gt;6</td>\n",
       "      <td>0</td>\n",
       "      <td>0.0</td>\n",
       "      <td>NaN</td>\n",
       "    </tr>\n",
       "    <tr>\n",
       "      <th>494</th>\n",
       "      <td>29 Mar 20</td>\n",
       "      <td>6*5a</td>\n",
       "      <td>1-&gt;2</td>\n",
       "      <td>1</td>\n",
       "      <td>1.0</td>\n",
       "      <td>NaN</td>\n",
       "    </tr>\n",
       "    <tr>\n",
       "      <th>508</th>\n",
       "      <td>29 Mar 20</td>\n",
       "      <td>10*as</td>\n",
       "      <td>6-&gt;7</td>\n",
       "      <td>0</td>\n",
       "      <td>0.0</td>\n",
       "      <td>NaN</td>\n",
       "    </tr>\n",
       "    <tr>\n",
       "      <th>514</th>\n",
       "      <td>29 Mar 20</td>\n",
       "      <td>15*2d</td>\n",
       "      <td>2-&gt;3</td>\n",
       "      <td>1</td>\n",
       "      <td>1.0</td>\n",
       "      <td>NaN</td>\n",
       "    </tr>\n",
       "    <tr>\n",
       "      <th>525</th>\n",
       "      <td>30 Mar 20</td>\n",
       "      <td>4*2a</td>\n",
       "      <td>8-&gt;9</td>\n",
       "      <td>2</td>\n",
       "      <td>1.0</td>\n",
       "      <td>NaN</td>\n",
       "    </tr>\n",
       "    <tr>\n",
       "      <th>536</th>\n",
       "      <td>30 Mar 20</td>\n",
       "      <td>7*3a2s</td>\n",
       "      <td>1-&gt;2</td>\n",
       "      <td>0</td>\n",
       "      <td>0.0</td>\n",
       "      <td>NaN</td>\n",
       "    </tr>\n",
       "    <tr>\n",
       "      <th>558</th>\n",
       "      <td>30 Mar 20</td>\n",
       "      <td>21*g</td>\n",
       "      <td>1-&gt;2</td>\n",
       "      <td>0</td>\n",
       "      <td>0.0</td>\n",
       "      <td>NaN</td>\n",
       "    </tr>\n",
       "    <tr>\n",
       "      <th>738</th>\n",
       "      <td>4 Apr 20</td>\n",
       "      <td>10*s</td>\n",
       "      <td>8-&gt;9</td>\n",
       "      <td>0</td>\n",
       "      <td>0.0</td>\n",
       "      <td>NaN</td>\n",
       "    </tr>\n",
       "    <tr>\n",
       "      <th>777</th>\n",
       "      <td>5 Apr 20</td>\n",
       "      <td>10*s</td>\n",
       "      <td>8-&gt;9</td>\n",
       "      <td>0</td>\n",
       "      <td>0.0</td>\n",
       "      <td>NaN</td>\n",
       "    </tr>\n",
       "    <tr>\n",
       "      <th>817</th>\n",
       "      <td>6 Apr 20</td>\n",
       "      <td>10*s</td>\n",
       "      <td>8-&gt;9</td>\n",
       "      <td>0</td>\n",
       "      <td>0.0</td>\n",
       "      <td>NaN</td>\n",
       "    </tr>\n",
       "    <tr>\n",
       "      <th>836</th>\n",
       "      <td>7 Apr 20</td>\n",
       "      <td>4*3a</td>\n",
       "      <td>9-&gt;10</td>\n",
       "      <td>8-&gt;9</td>\n",
       "      <td>5.0</td>\n",
       "      <td>NaN</td>\n",
       "    </tr>\n",
       "    <tr>\n",
       "      <th>915</th>\n",
       "      <td>9 Apr 20</td>\n",
       "      <td>4*3a2g</td>\n",
       "      <td>12-&gt;13</td>\n",
       "      <td>8-&gt;9</td>\n",
       "      <td>7.0</td>\n",
       "      <td>NaN</td>\n",
       "    </tr>\n",
       "    <tr>\n",
       "      <th>969</th>\n",
       "      <td>10 Apr 20</td>\n",
       "      <td>7*3as</td>\n",
       "      <td>5-&gt;7</td>\n",
       "      <td>2-&gt;3</td>\n",
       "      <td>2.0</td>\n",
       "      <td>1,1,2</td>\n",
       "    </tr>\n",
       "  </tbody>\n",
       "</table>\n",
       "</div>"
      ],
      "text/plain": [
       "          Date Location Total_points Points_flowering  New_flowers  \\\n",
       "147  19 Mar 20     6*2a         2->1                0          0.0   \n",
       "349  25 Mar 20     7*3a         5->2                2          0.0   \n",
       "356  25 Mar 20     10*s         6->8                0          0.0   \n",
       "358  25 Mar 20    10*as         2->3                0          0.0   \n",
       "360  25 Mar 20     11*g         2->3                0          0.0   \n",
       "400  26 Mar 20    15*2d         1->2                1          0.0   \n",
       "421  27 Mar 20   8*4a2s         2->3                0          0.0   \n",
       "426  27 Mar 20     7*2a         1->2                1          0.0   \n",
       "438  27 Mar 20    15*2d         1->2                1          1.0   \n",
       "447  28 Mar 20   4*3a2g       11->12                0          0.0   \n",
       "470  28 Mar 20    10*as         3->6                0          0.0   \n",
       "494  29 Mar 20     6*5a         1->2                1          1.0   \n",
       "508  29 Mar 20    10*as         6->7                0          0.0   \n",
       "514  29 Mar 20    15*2d         2->3                1          1.0   \n",
       "525  30 Mar 20     4*2a         8->9                2          1.0   \n",
       "536  30 Mar 20   7*3a2s         1->2                0          0.0   \n",
       "558  30 Mar 20     21*g         1->2                0          0.0   \n",
       "738   4 Apr 20     10*s         8->9                0          0.0   \n",
       "777   5 Apr 20     10*s         8->9                0          0.0   \n",
       "817   6 Apr 20     10*s         8->9                0          0.0   \n",
       "836   7 Apr 20     4*3a        9->10             8->9          5.0   \n",
       "915   9 Apr 20   4*3a2g       12->13             8->9          7.0   \n",
       "969  10 Apr 20    7*3as         5->7             2->3          2.0   \n",
       "\n",
       "    Total_Flowers  \n",
       "147           NaN  \n",
       "349           NaN  \n",
       "356           NaN  \n",
       "358           NaN  \n",
       "360           NaN  \n",
       "400           NaN  \n",
       "421           NaN  \n",
       "426           NaN  \n",
       "438           NaN  \n",
       "447           NaN  \n",
       "470           NaN  \n",
       "494           NaN  \n",
       "508           NaN  \n",
       "514           NaN  \n",
       "525           NaN  \n",
       "536           NaN  \n",
       "558           NaN  \n",
       "738           NaN  \n",
       "777           NaN  \n",
       "817           NaN  \n",
       "836           NaN  \n",
       "915           NaN  \n",
       "969         1,1,2  "
      ]
     },
     "execution_count": 7,
     "metadata": {},
     "output_type": "execute_result"
    }
   ],
   "source": [
    "#Check rows of 'Total_points' where there are transitions '->'\n",
    "df1[df1.Total_points.str.contains('->',na=False)] # without na=false, nan values give error"
   ]
  },
  {
   "cell_type": "code",
   "execution_count": 8,
   "metadata": {},
   "outputs": [],
   "source": [
    "#For transitions with '->' use second character\n",
    "df1['Total_points']=df1['Total_points'].astype(str)#mixed float and str objects converted to uniform str column\n",
    "df1['Points_flowering']=df1['Points_flowering'].astype(str)\n",
    "for ind,row in df1.iterrows():\n",
    "    if '->' in row['Total_points']:\n",
    "        df1.loc[ind,'Total_points']=df1.loc[ind,'Total_points'].split('->')[1] # select 2nd location\n",
    "    if '->' in row['Points_flowering']:\n",
    "        df1.loc[ind,'Points_flowering']=df1.loc[ind,'Points_flowering'].split('->')[1] # select 2nd location"
   ]
  },
  {
   "cell_type": "code",
   "execution_count": 9,
   "metadata": {},
   "outputs": [
    {
     "data": {
      "text/html": [
       "<div>\n",
       "<style scoped>\n",
       "    .dataframe tbody tr th:only-of-type {\n",
       "        vertical-align: middle;\n",
       "    }\n",
       "\n",
       "    .dataframe tbody tr th {\n",
       "        vertical-align: top;\n",
       "    }\n",
       "\n",
       "    .dataframe thead th {\n",
       "        text-align: right;\n",
       "    }\n",
       "</style>\n",
       "<table border=\"1\" class=\"dataframe\">\n",
       "  <thead>\n",
       "    <tr style=\"text-align: right;\">\n",
       "      <th></th>\n",
       "      <th>Date</th>\n",
       "      <th>Location</th>\n",
       "      <th>Total_points</th>\n",
       "      <th>Points_flowering</th>\n",
       "      <th>New_flowers</th>\n",
       "      <th>Total_Flowers</th>\n",
       "    </tr>\n",
       "  </thead>\n",
       "  <tbody>\n",
       "  </tbody>\n",
       "</table>\n",
       "</div>"
      ],
      "text/plain": [
       "Empty DataFrame\n",
       "Columns: [Date, Location, Total_points, Points_flowering, New_flowers, Total_Flowers]\n",
       "Index: []"
      ]
     },
     "execution_count": 9,
     "metadata": {},
     "output_type": "execute_result"
    }
   ],
   "source": [
    "#Check rows of 'Total_points' where there are transitions '->'\n",
    "df1[df1.Total_points.str.contains('->',na=False)] # without na=false, nan values give error"
   ]
  },
  {
   "cell_type": "code",
   "execution_count": 10,
   "metadata": {},
   "outputs": [],
   "source": [
    "# Create column for cumulative number of new flowers. Indicate color as number of flowering points\n",
    "df1['cum_sum']=df1.groupby('Location').cumsum()\n",
    "#df[df['Location']=='3*2ag'] # check with 1 location if cum_sum is working alright"
   ]
  },
  {
   "cell_type": "markdown",
   "metadata": {},
   "source": [
    "# Bar chart race\n",
    "    -Location must figure on the chart only after it starts flowering.\n",
    "    -Points flowering data occurs only after 19th March, so filter dataframe to those.\n",
    "    -Use notnull to display points which are flowering only"
   ]
  },
  {
   "cell_type": "code",
   "execution_count": 11,
   "metadata": {},
   "outputs": [],
   "source": [
    "# Location must figure on the chart only after it starts flowering.\n",
    "# Points flowering data occurs only after 19th March, so filter dataframe to those.\n",
    "# Use notnull to display points which are flowering only\n",
    "df2=df1.copy() #check point for the data\n",
    "df2.reset_index(inplace=True,drop=True)\n",
    "df2.set_index('Date',inplace=True)\n",
    "df2.drop(['12 Mar 20', '13 Mar 20', '16 Mar 20', '17 Mar 20', '18 Mar 20'],inplace=True) #drop dates with improper null\n",
    "df2.reset_index(inplace=True)\n",
    "#df2"
   ]
  },
  {
   "cell_type": "code",
   "execution_count": 12,
   "metadata": {},
   "outputs": [],
   "source": [
    "# replace zeroes with nan values\n",
    "df2['Points_flowering'].astype(str)\n",
    "df2['Points_flowering'].replace('0',np.nan,inplace=True)\n",
    "df2['Points_flowering'].replace('nan',np.nan,inplace=True)\n",
    "#remove location 7*c, which had only 1 flower and stopped.\n",
    "df2=df2[df2['Location']!='7*c']"
   ]
  },
  {
   "cell_type": "code",
   "execution_count": 13,
   "metadata": {},
   "outputs": [],
   "source": [
    "# Prepare dff from data set to be able to plot bar chart for 1 frame\n",
    "current_day= '13 Apr 20'\n",
    "dfpf=df2[df2['Points_flowering'].notnull()] # consider locations only once it flowers \n",
    "dff = (dfpf[dfpf['Date'].eq(current_day)]\n",
    "       .sort_values(by='cum_sum', ascending=True))\n",
    "#dff"
   ]
  },
  {
   "cell_type": "code",
   "execution_count": 14,
   "metadata": {},
   "outputs": [
    {
     "data": {
      "text/plain": [
       "<BarContainer object of 34 artists>"
      ]
     },
     "execution_count": 14,
     "metadata": {},
     "output_type": "execute_result"
    },
    {
     "data": {
      "image/png": "[encoded data removed]",
      "text/plain": [
       "<Figure size 1080x576 with 1 Axes>"
      ]
     },
     "metadata": {
      "needs_background": "light"
     },
     "output_type": "display_data"
    }
   ],
   "source": [
    "# Plot bar chart for 1 frame\n",
    "fig, ax = plt.subplots(figsize=(15, 8))\n",
    "ax.barh(dff['Location'], dff['cum_sum'])"
   ]
  },
  {
   "cell_type": "code",
   "execution_count": 15,
   "metadata": {},
   "outputs": [],
   "source": [
    "colors = dict(zip(\n",
    "    ['1', '2', '3', '4','5', '6', '7','8','9','10','11','12','13'],\n",
    "    ['#85C1E9', '#5DADE2', '#3498DB', '#2E86C1','#2874A6', '#76D7C4',\n",
    "     '#48C9B0','#1ABC9C','#17A589','#148F77','#BB8FCE','#A569BD','#8E44AD']\n",
    "    ))"
   ]
  },
  {
   "cell_type": "code",
   "execution_count": 16,
   "metadata": {},
   "outputs": [
    {
     "data": {
      "image/png": "[encoded data removed]",
      "text/plain": [
       "<Figure size 1080x576 with 1 Axes>"
      ]
     },
     "metadata": {
      "needs_background": "light"
     },
     "output_type": "display_data"
    }
   ],
   "source": [
    "# Optimise table and pack into a function\n",
    "\n",
    "fig, ax = plt.subplots(figsize=(15, 8))\n",
    "def draw_barchart(current_date):\n",
    "    dff = (dfpf[dfpf['Date'].eq(current_date)]\n",
    "       .sort_values(by='cum_sum', ascending=True))\n",
    "    ax.clear()\n",
    "    dff['color']=dff['Points_flowering'].apply(lambda x: colors[x])     \n",
    "    ax.barh(dff['Location'], dff['cum_sum'], color=dff.color)\n",
    "    dx = dff['cum_sum'].max() / 200\n",
    "    for i, (value, name) in enumerate(zip(dff['cum_sum'], dff['Location'])):\n",
    "        ax.text(value, i, value, ha='left') \n",
    "        #ax.text(value, i,     name,            ha='right')  # Tokyo: name\n",
    "    # ... polished styles\n",
    "    ax.text(0, 1.12, 'Cumulative number of new vanilla flowers per location',\n",
    "            transform=ax.transAxes, size=24, weight=600, ha='left')\n",
    "    ax.text(1, 0, 'by @appanna; credit @pratapvardhan', transform=ax.transAxes, ha='right',\n",
    "            color='#777777', bbox=dict(facecolor='white', alpha=0.8, edgecolor='white'))\n",
    "    plt.box(False)\n",
    "    ax.text(1, 0.4, current_date, transform=ax.transAxes, size=46, ha='right')\n",
    "    #ax.legend(colors)         \n",
    "    labels = list(colors.keys())\n",
    "    handles = [plt.Rectangle((0,0),1,1, color=colors[label]) for label in labels]\n",
    "    plt.legend(handles, labels, loc='lower center', title='Flowering points')\n",
    "    \n",
    "draw_barchart('13 Apr 20')\n"
   ]
  },
  {
   "cell_type": "code",
   "execution_count": 17,
   "metadata": {},
   "outputs": [],
   "source": [
    "f=dfpf['Date'].unique() #date range to consider for animation frames"
   ]
  },
  {
   "cell_type": "code",
   "execution_count": 26,
   "metadata": {},
   "outputs": [
    {
     "data": {
      "image/png": "[encoded data removed]",
      "text/plain": [
       "<Figure size 1080x576 with 1 Axes>"
      ]
     },
     "metadata": {
      "needs_background": "light"
     },
     "output_type": "display_data"
    }
   ],
   "source": [
    "import matplotlib.animation as animation\n",
    "from IPython.display import HTML\n",
    "fig, ax = plt.subplots(figsize=(15, 8))\n",
    "animator = animation.FuncAnimation(fig, draw_barchart, frames=f)\n",
    "#HTML(animator.to_jshtml()) \n",
    "#animator.to_html5_video() \n",
    "animator.save('Vanilla 2020.mp4',writer=\"ffmpeg\", fps=2, bitrate=1800)"
   ]
  },
  {
   "cell_type": "code",
   "execution_count": null,
   "metadata": {},
   "outputs": [],
   "source": []
  }
 ],
 "metadata": {
  "kernelspec": {
   "display_name": "Python 3",
   "language": "python",
   "name": "python3"
  },
  "language_info": {
   "codemirror_mode": {
    "name": "ipython",
    "version": 3
   },
   "file_extension": ".py",
   "mimetype": "text/x-python",
   "name": "python",
   "nbconvert_exporter": "python",
   "pygments_lexer": "ipython3",
   "version": "3.7.4"
  }
 },
 "nbformat": 4,
 "nbformat_minor": 2
}
