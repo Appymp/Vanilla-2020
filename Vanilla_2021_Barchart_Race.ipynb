{
 "cells": [
  {
   "cell_type": "code",
   "execution_count": 1,
   "metadata": {},
   "outputs": [],
   "source": [
    "import numpy as np\n",
    "import pandas as pd\n",
    "import seaborn as sns\n",
    "import matplotlib.pyplot as plt\n",
    "import matplotlib.animation as animation\n",
    "%matplotlib inline"
   ]
  },
  {
   "cell_type": "markdown",
   "metadata": {},
   "source": [
    "# Import Data"
   ]
  },
  {
   "cell_type": "code",
   "execution_count": 3,
   "metadata": {},
   "outputs": [
    {
     "data": {
      "text/html": [
       "<div>\n",
       "<style scoped>\n",
       "    .dataframe tbody tr th:only-of-type {\n",
       "        vertical-align: middle;\n",
       "    }\n",
       "\n",
       "    .dataframe tbody tr th {\n",
       "        vertical-align: top;\n",
       "    }\n",
       "\n",
       "    .dataframe thead th {\n",
       "        text-align: right;\n",
       "    }\n",
       "</style>\n",
       "<table border=\"1\" class=\"dataframe\">\n",
       "  <thead>\n",
       "    <tr style=\"text-align: right;\">\n",
       "      <th></th>\n",
       "      <th>Date</th>\n",
       "      <th>Location</th>\n",
       "      <th>Total points</th>\n",
       "      <th>Points flowering</th>\n",
       "      <th>New flowers</th>\n",
       "      <th>Total Flowers</th>\n",
       "    </tr>\n",
       "  </thead>\n",
       "  <tbody>\n",
       "    <tr>\n",
       "      <th>0</th>\n",
       "      <td>12 Mar 20</td>\n",
       "      <td>3*2ag</td>\n",
       "      <td>8</td>\n",
       "      <td>NaN</td>\n",
       "      <td>0.0</td>\n",
       "      <td>NaN</td>\n",
       "    </tr>\n",
       "    <tr>\n",
       "      <th>1</th>\n",
       "      <td>12 Mar 20</td>\n",
       "      <td>3*3g</td>\n",
       "      <td>2</td>\n",
       "      <td>NaN</td>\n",
       "      <td>NaN</td>\n",
       "      <td>NaN</td>\n",
       "    </tr>\n",
       "    <tr>\n",
       "      <th>2</th>\n",
       "      <td>12 Mar 20</td>\n",
       "      <td>4*3a</td>\n",
       "      <td>9</td>\n",
       "      <td>NaN</td>\n",
       "      <td>1.0</td>\n",
       "      <td>NaN</td>\n",
       "    </tr>\n",
       "    <tr>\n",
       "      <th>3</th>\n",
       "      <td>12 Mar 20</td>\n",
       "      <td>4*2a</td>\n",
       "      <td>8</td>\n",
       "      <td>NaN</td>\n",
       "      <td>NaN</td>\n",
       "      <td>NaN</td>\n",
       "    </tr>\n",
       "    <tr>\n",
       "      <th>4</th>\n",
       "      <td>12 Mar 20</td>\n",
       "      <td>5*2a</td>\n",
       "      <td>1</td>\n",
       "      <td>NaN</td>\n",
       "      <td>NaN</td>\n",
       "      <td>NaN</td>\n",
       "    </tr>\n",
       "  </tbody>\n",
       "</table>\n",
       "</div>"
      ],
      "text/plain": [
       "        Date Location Total points Points flowering  New flowers Total Flowers\n",
       "0  12 Mar 20    3*2ag            8              NaN          0.0           NaN\n",
       "1  12 Mar 20     3*3g            2              NaN          NaN           NaN\n",
       "2  12 Mar 20     4*3a            9              NaN          1.0           NaN\n",
       "3  12 Mar 20     4*2a            8              NaN          NaN           NaN\n",
       "4  12 Mar 20     5*2a            1              NaN          NaN           NaN"
      ]
     },
     "execution_count": 3,
     "metadata": {},
     "output_type": "execute_result"
    }
   ],
   "source": [
    "# import data\n",
    "df=pd.read_csv('25_May.csv')\n",
    "df.head()"
   ]
  },
  {
   "cell_type": "markdown",
   "metadata": {},
   "source": [
    "# Data cleaning"
   ]
  },
  {
   "cell_type": "code",
   "execution_count": 4,
   "metadata": {},
   "outputs": [
    {
     "data": {
      "text/plain": [
       "Index(['Date', 'Location', 'Total_points', 'Points_flowering', 'New_flowers',\n",
       "       'Total_Flowers'],\n",
       "      dtype='object')"
      ]
     },
     "execution_count": 4,
     "metadata": {},
     "output_type": "execute_result"
    }
   ],
   "source": [
    "df.columns=df.columns.str.replace(' ','_') #Rename columns to remove blank space\n",
    "df.columns"
   ]
  },
  {
   "cell_type": "code",
   "execution_count": 42,
   "metadata": {},
   "outputs": [
    {
     "data": {
      "text/plain": [
       "array(['12 Mar 20', '13 Mar 20', '16 Mar 20', '17 Mar 20', '18 Mar 20',\n",
       "       '19 Mar 20', '20 Mar 20', '21 Mar 20', '22 Mar 20', '23 Mar 20',\n",
       "       '24 Mar 20', '25 Mar 20', '26 Mar 20', '27 Mar 20', '28 Mar 20',\n",
       "       '29 Mar 20', '30 Mar 20', '31 Mar 20', '1 Apr 20', '2 Apr 20',\n",
       "       '3 Apr 20', '4 Apr 20', '5 Apr 20', '6 Apr 20', '7 Apr 20',\n",
       "       '8 Apr 20', '9 Apr 20', '10 Apr 20', '11 Apr 20', '12 Apr 20',\n",
       "       '13 Apr 20', '14 Apr 20', '15 Apr 20', '16 Apr 20', '17 Apr 20',\n",
       "       '18 Apr 20', '19 Apr 20', '20 Apr 20', '21 Apr 20', '22 Apr 20',\n",
       "       '23 Apr 20', '24 Apr 20', '25 Apr 20', '26 Apr 20', '27 Apr 20',\n",
       "       '28 Apr 20', '29 Apr 20', '30 Apr 20', '1 May 20', '2 May 20',\n",
       "       '3 May 20', '4 May 20', '5 May 20', '6 May 20', '7 May 20',\n",
       "       '8 May 20', '9 May 20', '10 May 20', '11 May 20', '12 May 20',\n",
       "       '13 May 20', '14 May 20', '15 May 20', '16 May 20', '17 May 20',\n",
       "       '18 May 20', '19 May 20', '20 May 20', '21 May 20', '22 May 20',\n",
       "       '23 May 20', '24 May 20', '25 May 20'], dtype=object)"
      ]
     },
     "execution_count": 42,
     "metadata": {},
     "output_type": "execute_result"
    }
   ],
   "source": [
    "# Check date range\n",
    "df1=df.copy() #make copy to preserve original dataframe\n",
    "df1['Date'].unique()"
   ]
  },
  {
   "cell_type": "code",
   "execution_count": 6,
   "metadata": {},
   "outputs": [
    {
     "data": {
      "text/plain": [
       "array(['19 Mar 20', '20 Mar 20', '21 Mar 20', '22 Mar 20', '23 Mar 20',\n",
       "       '24 Mar 20', '25 Mar 20', '26 Mar 20', '27 Mar 20', '28 Mar 20',\n",
       "       '29 Mar 20', '30 Mar 20', '31 Mar 20', '1 Apr 20', '2 Apr 20',\n",
       "       '3 Apr 20', '4 Apr 20', '5 Apr 20', '6 Apr 20', '7 Apr 20',\n",
       "       '8 Apr 20', '9 Apr 20', '10 Apr 20', '11 Apr 20', '12 Apr 20',\n",
       "       '13 Apr 20', '14 Apr 20', '15 Apr 20', '16 Apr 20', '17 Apr 20',\n",
       "       '18 Apr 20', '19 Apr 20', '20 Apr 20', '21 Apr 20', '22 Apr 20',\n",
       "       '23 Apr 20', '24 Apr 20', '25 Apr 20', '26 Apr 20', '27 Apr 20',\n",
       "       '28 Apr 20', '29 Apr 20', '30 Apr 20', '1 May 20', '2 May 20',\n",
       "       '3 May 20', '4 May 20', '5 May 20', '6 May 20', '7 May 20',\n",
       "       '8 May 20', '9 May 20', '10 May 20', '11 May 20', '12 May 20',\n",
       "       '13 May 20', '14 May 20', '15 May 20', '16 May 20', '17 May 20',\n",
       "       '18 May 20', '19 May 20', '20 May 20', '21 May 20', '22 May 20',\n",
       "       '23 May 20', '24 May 20', '25 May 20'], dtype=object)"
      ]
     },
     "execution_count": 6,
     "metadata": {},
     "output_type": "execute_result"
    }
   ],
   "source": [
    "# From which date do we have values for 'points flowering'\n",
    "#df.Date.loc[~df.Points_flowering.isnull()].iloc[0] \n",
    "df1.Date.loc[~df.Points_flowering.isnull()].unique()"
   ]
  },
  {
   "cell_type": "code",
   "execution_count": 7,
   "metadata": {},
   "outputs": [
    {
     "data": {
      "text/plain": [
       "array(['3*2ag', '3*3g', '4*3a', '4*2a', '5*2a', '5*2ag', '4*3a2g', '5*4a',\n",
       "       '5*4as', '6*5a', '7*3as', '7*3a', '7*2a', '7*a', '6*2a', '7*c',\n",
       "       '9*2a', '8*d', '8*3a', '8*3a2s', '10*as', '11*g', '12*g', '13*g',\n",
       "       '8*4a', '8*4a2s', '12*2ag', '15*2d', '17*a', '19*d', '20*a',\n",
       "       '23*3a', '10*s', '21*g', '7*3a3s', '7*3a2s', '10*2a', '16*m',\n",
       "       '5*3as', '19*2d', '25*3g', '19*m', '17*m', '18*g', '1*4a', '2*5a',\n",
       "       '18*m', '19*s', '19*s->19*m', '19*m->19*2m', '19*2m', '12*m',\n",
       "       '12*2a', '12*2g', '11*a', '12*2a->12*a', '12*a', '8*2d',\n",
       "       '10*s -> 10*m', '10*2m', '10*as->10*2m', '10*2m->10*3m'],\n",
       "      dtype=object)"
      ]
     },
     "execution_count": 7,
     "metadata": {},
     "output_type": "execute_result"
    }
   ],
   "source": [
    "# check unique locations\n",
    "df1['Location'].unique()"
   ]
  },
  {
   "cell_type": "markdown",
   "metadata": {},
   "source": [
    "# Code block # 1 edited below"
   ]
  },
  {
   "cell_type": "code",
   "execution_count": null,
   "metadata": {},
   "outputs": [],
   "source": [
    "# Modify location codes for dates before the modification. For modified dates return only the updated location."
   ]
  },
  {
   "cell_type": "code",
   "execution_count": 7,
   "metadata": {},
   "outputs": [
    {
     "data": {
      "text/plain": [
       "62"
      ]
     },
     "execution_count": 7,
     "metadata": {},
     "output_type": "execute_result"
    }
   ],
   "source": [
    "len(df1['Location'].unique())"
   ]
  },
  {
   "cell_type": "code",
   "execution_count": 23,
   "metadata": {},
   "outputs": [],
   "source": [
    "#Check loc 19*m before loc updating\n",
    "bf_gp=df1.groupby(['Location','Date']).sum()\n",
    "bf_gp.reset_index(inplace=True)\n",
    "# bf_gp[(bf_gp =='19*m').any(axis=1)]"
   ]
  },
  {
   "cell_type": "code",
   "execution_count": 24,
   "metadata": {},
   "outputs": [],
   "source": [
    "#Check rows of 'Total_points' where there are transitions '->'\n",
    "#df1[df1.Total_points.str.contains('->',na=False)] # without na=false, nan values give error\n",
    "def list_sub(lst):\n",
    "    lst=list(map(int,lst))\n",
    "    return (lst[1]-lst[0])"
   ]
  },
  {
   "cell_type": "code",
   "execution_count": 25,
   "metadata": {},
   "outputs": [
    {
     "name": "stderr",
     "output_type": "stream",
     "text": [
      "<ipython-input-25-4417bc057876>:10: SettingWithCopyWarning: \n",
      "A value is trying to be set on a copy of a slice from a DataFrame.\n",
      "Try using .loc[row_indexer,col_indexer] = value instead\n",
      "\n",
      "See the caveats in the documentation: https://pandas.pydata.org/pandas-docs/stable/user_guide/indexing.html#returning-a-view-versus-a-copy\n",
      "  new_points['new_points']=new_points['Points_flowering'].str.split('->').apply(list_sub)\n"
     ]
    }
   ],
   "source": [
    "#Check rows of 'Points_flowering' where there are transitions '->'\n",
    "new_points=df1[df1.Points_flowering.str.contains('->',na=False)] # without na=false, nan values give error\n",
    "\n",
    "#define a function to convert list elements to int and perform a subtraction \n",
    "def list_sub(lst):\n",
    "    lst=list(map(int,lst))\n",
    "    return (lst[1]-lst[0])\n",
    "\n",
    "#create new column with number of new points \n",
    "new_points['new_points']=new_points['Points_flowering'].str.split('->').apply(list_sub)\n",
    "\n",
    "\n",
    "\n",
    "#What can be inferred:\n",
    "#which day had maximum new points occuring. co-relation with rain/watering?\n",
    "#trend of points increasing vs points decreasing. net\n",
    "\n",
    "#new_points\n"
   ]
  },
  {
   "cell_type": "code",
   "execution_count": 26,
   "metadata": {},
   "outputs": [
    {
     "data": {
      "text/html": [
       "<div>\n",
       "<style scoped>\n",
       "    .dataframe tbody tr th:only-of-type {\n",
       "        vertical-align: middle;\n",
       "    }\n",
       "\n",
       "    .dataframe tbody tr th {\n",
       "        vertical-align: top;\n",
       "    }\n",
       "\n",
       "    .dataframe thead th {\n",
       "        text-align: right;\n",
       "    }\n",
       "</style>\n",
       "<table border=\"1\" class=\"dataframe\">\n",
       "  <thead>\n",
       "    <tr style=\"text-align: right;\">\n",
       "      <th></th>\n",
       "      <th>Date</th>\n",
       "      <th>Location</th>\n",
       "      <th>Total_points</th>\n",
       "      <th>Points_flowering</th>\n",
       "      <th>New_flowers</th>\n",
       "      <th>Total_Flowers</th>\n",
       "      <th>new_points</th>\n",
       "    </tr>\n",
       "  </thead>\n",
       "  <tbody>\n",
       "    <tr>\n",
       "      <th>0</th>\n",
       "      <td>12 Mar 20</td>\n",
       "      <td>3*2ag</td>\n",
       "      <td>8</td>\n",
       "      <td>NaN</td>\n",
       "      <td>0.0</td>\n",
       "      <td>NaN</td>\n",
       "      <td>0</td>\n",
       "    </tr>\n",
       "    <tr>\n",
       "      <th>1</th>\n",
       "      <td>12 Mar 20</td>\n",
       "      <td>3*3g</td>\n",
       "      <td>2</td>\n",
       "      <td>NaN</td>\n",
       "      <td>NaN</td>\n",
       "      <td>NaN</td>\n",
       "      <td>0</td>\n",
       "    </tr>\n",
       "    <tr>\n",
       "      <th>2</th>\n",
       "      <td>12 Mar 20</td>\n",
       "      <td>4*3a</td>\n",
       "      <td>9</td>\n",
       "      <td>NaN</td>\n",
       "      <td>1.0</td>\n",
       "      <td>NaN</td>\n",
       "      <td>0</td>\n",
       "    </tr>\n",
       "    <tr>\n",
       "      <th>3</th>\n",
       "      <td>12 Mar 20</td>\n",
       "      <td>4*2a</td>\n",
       "      <td>8</td>\n",
       "      <td>NaN</td>\n",
       "      <td>NaN</td>\n",
       "      <td>NaN</td>\n",
       "      <td>0</td>\n",
       "    </tr>\n",
       "    <tr>\n",
       "      <th>4</th>\n",
       "      <td>12 Mar 20</td>\n",
       "      <td>5*2a</td>\n",
       "      <td>1</td>\n",
       "      <td>NaN</td>\n",
       "      <td>NaN</td>\n",
       "      <td>NaN</td>\n",
       "      <td>0</td>\n",
       "    </tr>\n",
       "    <tr>\n",
       "      <th>...</th>\n",
       "      <td>...</td>\n",
       "      <td>...</td>\n",
       "      <td>...</td>\n",
       "      <td>...</td>\n",
       "      <td>...</td>\n",
       "      <td>...</td>\n",
       "      <td>...</td>\n",
       "    </tr>\n",
       "    <tr>\n",
       "      <th>3166</th>\n",
       "      <td>25 May 20</td>\n",
       "      <td>19*2m</td>\n",
       "      <td>2</td>\n",
       "      <td>0</td>\n",
       "      <td>0.0</td>\n",
       "      <td>1,110</td>\n",
       "      <td>0</td>\n",
       "    </tr>\n",
       "    <tr>\n",
       "      <th>3167</th>\n",
       "      <td>25 May 20</td>\n",
       "      <td>20*a</td>\n",
       "      <td>3</td>\n",
       "      <td>0</td>\n",
       "      <td>0.0</td>\n",
       "      <td>9,9,14</td>\n",
       "      <td>0</td>\n",
       "    </tr>\n",
       "    <tr>\n",
       "      <th>3168</th>\n",
       "      <td>25 May 20</td>\n",
       "      <td>21*g</td>\n",
       "      <td>3</td>\n",
       "      <td>0</td>\n",
       "      <td>0.0</td>\n",
       "      <td>9,13,7</td>\n",
       "      <td>0</td>\n",
       "    </tr>\n",
       "    <tr>\n",
       "      <th>3169</th>\n",
       "      <td>25 May 20</td>\n",
       "      <td>23*3a</td>\n",
       "      <td>5</td>\n",
       "      <td>0</td>\n",
       "      <td>0.0</td>\n",
       "      <td>10,12,5,8,7</td>\n",
       "      <td>0</td>\n",
       "    </tr>\n",
       "    <tr>\n",
       "      <th>3170</th>\n",
       "      <td>25 May 20</td>\n",
       "      <td>25*3g</td>\n",
       "      <td>1</td>\n",
       "      <td>0</td>\n",
       "      <td>0.0</td>\n",
       "      <td>18</td>\n",
       "      <td>0</td>\n",
       "    </tr>\n",
       "  </tbody>\n",
       "</table>\n",
       "<p>3171 rows × 7 columns</p>\n",
       "</div>"
      ],
      "text/plain": [
       "           Date Location Total_points Points_flowering  New_flowers  \\\n",
       "0     12 Mar 20    3*2ag            8              NaN          0.0   \n",
       "1     12 Mar 20     3*3g            2              NaN          NaN   \n",
       "2     12 Mar 20     4*3a            9              NaN          1.0   \n",
       "3     12 Mar 20     4*2a            8              NaN          NaN   \n",
       "4     12 Mar 20     5*2a            1              NaN          NaN   \n",
       "...         ...      ...          ...              ...          ...   \n",
       "3166  25 May 20    19*2m            2                0          0.0   \n",
       "3167  25 May 20     20*a            3                0          0.0   \n",
       "3168  25 May 20     21*g            3                0          0.0   \n",
       "3169  25 May 20    23*3a            5                0          0.0   \n",
       "3170  25 May 20    25*3g            1                0          0.0   \n",
       "\n",
       "     Total_Flowers  new_points  \n",
       "0              NaN           0  \n",
       "1              NaN           0  \n",
       "2              NaN           0  \n",
       "3              NaN           0  \n",
       "4              NaN           0  \n",
       "...            ...         ...  \n",
       "3166         1,110           0  \n",
       "3167        9,9,14           0  \n",
       "3168        9,13,7           0  \n",
       "3169   10,12,5,8,7           0  \n",
       "3170            18           0  \n",
       "\n",
       "[3171 rows x 7 columns]"
      ]
     },
     "execution_count": 26,
     "metadata": {},
     "output_type": "execute_result"
    }
   ],
   "source": [
    "#Check rows of 'Points_flowering' where there are transitions '->'\n",
    "#new_points=df1[df1.Points_flowering.str.contains('->',na=False)] # without na=false, nan values give error\n",
    "\n",
    "#define a function to convert list elements to int and perform a subtraction \n",
    "def list_sub(lst):\n",
    "    if isinstance(lst,list):\n",
    "        if len(lst)==2:\n",
    "            lst=list(map(int,lst))\n",
    "            return (lst[1]-lst[0])\n",
    "        else:\n",
    "            return 0\n",
    "    else:\n",
    "        return 0\n",
    "\n",
    "#create new column with number of new points \n",
    "df1['new_points']=df1['Points_flowering'].str.split('->').apply(list_sub)\n",
    "\n",
    "\n",
    "\n",
    "#What can be inferred:\n",
    "#which day had maximum new points occuring. co-relation with rain/watering?\n",
    "#trend of points increasing vs points decreasing. net\n",
    "\n",
    "#df1[df1.Points_flowering.str.contains('->',na=False)]\n",
    "df1"
   ]
  },
  {
   "cell_type": "code",
   "execution_count": 27,
   "metadata": {},
   "outputs": [],
   "source": [
    "#create hue for increase or decrease\n",
    "conditions = [\n",
    "    (df1['new_points'] >0),\n",
    "    (df1['new_points'] <0)]\n",
    "choices = ['inc', 'dec']\n",
    "df1['trans_hue']=np.select(conditions, choices, default=np.nan)\n",
    "\n"
   ]
  },
  {
   "cell_type": "code",
   "execution_count": 241,
   "metadata": {},
   "outputs": [
    {
     "name": "stderr",
     "output_type": "stream",
     "text": [
      "<ipython-input-241-20bb1dc8ab30>:5: SettingWithCopyWarning: \n",
      "A value is trying to be set on a copy of a slice from a DataFrame.\n",
      "Try using .loc[row_indexer,col_indexer] = value instead\n",
      "\n",
      "See the caveats in the documentation: https://pandas.pydata.org/pandas-docs/stable/user_guide/indexing.html#returning-a-view-versus-a-copy\n",
      "  new_points['neg_trans']=new_points['new_points'].mask(~maskn)\n",
      "<ipython-input-241-20bb1dc8ab30>:6: SettingWithCopyWarning: \n",
      "A value is trying to be set on a copy of a slice from a DataFrame.\n",
      "Try using .loc[row_indexer,col_indexer] = value instead\n",
      "\n",
      "See the caveats in the documentation: https://pandas.pydata.org/pandas-docs/stable/user_guide/indexing.html#returning-a-view-versus-a-copy\n",
      "  new_points['pos_trans']=new_points['new_points'].mask(maskn)\n"
     ]
    },
    {
     "data": {
      "text/html": [
       "<div>\n",
       "<style scoped>\n",
       "    .dataframe tbody tr th:only-of-type {\n",
       "        vertical-align: middle;\n",
       "    }\n",
       "\n",
       "    .dataframe tbody tr th {\n",
       "        vertical-align: top;\n",
       "    }\n",
       "\n",
       "    .dataframe thead th {\n",
       "        text-align: right;\n",
       "    }\n",
       "</style>\n",
       "<table border=\"1\" class=\"dataframe\">\n",
       "  <thead>\n",
       "    <tr style=\"text-align: right;\">\n",
       "      <th></th>\n",
       "      <th>neg_trans</th>\n",
       "      <th>pos_trans</th>\n",
       "    </tr>\n",
       "    <tr>\n",
       "      <th>Date</th>\n",
       "      <th></th>\n",
       "      <th></th>\n",
       "    </tr>\n",
       "  </thead>\n",
       "  <tbody>\n",
       "    <tr>\n",
       "      <th>29 Mar 20</th>\n",
       "      <td>0.0</td>\n",
       "      <td>1.0</td>\n",
       "    </tr>\n",
       "    <tr>\n",
       "      <th>30 Mar 20</th>\n",
       "      <td>0.0</td>\n",
       "      <td>2.0</td>\n",
       "    </tr>\n",
       "    <tr>\n",
       "      <th>2 Apr 20</th>\n",
       "      <td>0.0</td>\n",
       "      <td>14.0</td>\n",
       "    </tr>\n",
       "    <tr>\n",
       "      <th>3 Apr 20</th>\n",
       "      <td>0.0</td>\n",
       "      <td>2.0</td>\n",
       "    </tr>\n",
       "    <tr>\n",
       "      <th>4 Apr 20</th>\n",
       "      <td>0.0</td>\n",
       "      <td>13.0</td>\n",
       "    </tr>\n",
       "  </tbody>\n",
       "</table>\n",
       "</div>"
      ],
      "text/plain": [
       "           neg_trans  pos_trans\n",
       "Date                           \n",
       "29 Mar 20        0.0        1.0\n",
       "30 Mar 20        0.0        2.0\n",
       "2 Apr 20         0.0       14.0\n",
       "3 Apr 20         0.0        2.0\n",
       "4 Apr 20         0.0       13.0"
      ]
     },
     "execution_count": 241,
     "metadata": {},
     "output_type": "execute_result"
    }
   ],
   "source": [
    "#Stacked bar chart for total increase and decrease in number of points, for a day\n",
    "#Steps:\n",
    "#separate into positive and negative columns\n",
    "maskn = new_points['new_points'] < 0\n",
    "new_points['neg_trans']=new_points['new_points'].mask(~maskn)\n",
    "new_points['pos_trans']=new_points['new_points'].mask(maskn)\n",
    "\n",
    "#groupby date with sum of positive and negative transitions \n",
    "date_trans=new_points.groupby('Date',sort=False)[['neg_trans','pos_trans']].sum()\n",
    "date_trans['neg_trans']=date_trans['neg_trans'].apply(abs) #absolute value. convert negative to positive\n",
    "date_trans.head()\n"
   ]
  },
  {
   "cell_type": "markdown",
   "metadata": {},
   "source": [
    "# Code block # 1 edited above"
   ]
  },
  {
   "cell_type": "markdown",
   "metadata": {},
   "source": [
    "## 'Location', 'Points_flowering' and 'Total_points' column cleaning"
   ]
  },
  {
   "cell_type": "code",
   "execution_count": 279,
   "metadata": {},
   "outputs": [],
   "source": [
    "df1=df.copy() #make copy to preserve original dataframe\n",
    "df1['Location']=df1['Location'].str.replace(' ','') #remove blank space in location column\n",
    "\n",
    "for indi, rowi in df1[::-1].iterrows(): #iterate the rows from bottom to top\n",
    "    if '->' in rowi['Location']:\n",
    "        a=df1.loc[indi,'Location'].split('->')[0]\n",
    "        b=df1.loc[indi,'Location'].split('->')[1]\n",
    "        df1.at[indi,'Location']=b #update transitions to second value\n",
    "        for indj, rowj in df1[indi:None:-1].iterrows():  \n",
    "            if rowj['Location']==a:\n",
    "                df1.at[indj,'Location']=b    #use \".at\" since iterrows uses a copy which will not update original value\n",
    "\n",
    "\n",
    "\n",
    "#For transitions with '->' use second character\n",
    "df1['Points_flowering']=df1['Points_flowering'].str.replace(' ','') #remove blank space in location column\n",
    "df1['Points_flowering']=df1['Points_flowering'].str.replace('–','-') #format of dash made uniform\n",
    "df1['Total_points']=df1['Total_points'].str.replace(' ','') #remove blank space in location column\n",
    "df1['Total_points']=df1['Total_points'].str.replace('–','-') #format of dash made uniform\n",
    "\n",
    "\n",
    "df1['Total_points']=df1['Total_points'].astype(str)#mixed float and str objects converted to uniform str column\n",
    "df1['Points_flowering']=df1['Points_flowering'].astype(str)\n",
    "for ind,row in df1.iterrows():\n",
    "    if '->' in row['Total_points']:\n",
    "        df1.loc[ind,'Total_points']=df1.loc[ind,'Total_points'].split('->')[1] # select 2nd location\n",
    "    if '->' in row['Points_flowering']:\n",
    "        df1.loc[ind,'Points_flowering']=df1.loc[ind,'Points_flowering'].split('->')[1] # select 2nd location"
   ]
  },
  {
   "cell_type": "code",
   "execution_count": 280,
   "metadata": {},
   "outputs": [
    {
     "data": {
      "text/html": [
       "<div>\n",
       "<style scoped>\n",
       "    .dataframe tbody tr th:only-of-type {\n",
       "        vertical-align: middle;\n",
       "    }\n",
       "\n",
       "    .dataframe tbody tr th {\n",
       "        vertical-align: top;\n",
       "    }\n",
       "\n",
       "    .dataframe thead th {\n",
       "        text-align: right;\n",
       "    }\n",
       "</style>\n",
       "<table border=\"1\" class=\"dataframe\">\n",
       "  <thead>\n",
       "    <tr style=\"text-align: right;\">\n",
       "      <th></th>\n",
       "      <th>Date</th>\n",
       "      <th>Location</th>\n",
       "      <th>Total_points</th>\n",
       "      <th>Points_flowering</th>\n",
       "      <th>New_flowers</th>\n",
       "      <th>Total_Flowers</th>\n",
       "    </tr>\n",
       "  </thead>\n",
       "  <tbody>\n",
       "  </tbody>\n",
       "</table>\n",
       "</div>"
      ],
      "text/plain": [
       "Empty DataFrame\n",
       "Columns: [Date, Location, Total_points, Points_flowering, New_flowers, Total_Flowers]\n",
       "Index: []"
      ]
     },
     "execution_count": 280,
     "metadata": {},
     "output_type": "execute_result"
    }
   ],
   "source": [
    "#Check rows where there are transitions '->' for differnt columns\n",
    "df1[df1.Location.str.contains('->',na=False)] # without na=false, nan values give error"
   ]
  },
  {
   "cell_type": "code",
   "execution_count": 281,
   "metadata": {},
   "outputs": [],
   "source": [
    "# Create column for cumulative number of new flowers. Indicate color as number of flowering points\n",
    "df1['cum_sum']=df1.groupby('Location').cumsum()\n",
    "#df1[df1['Location']=='3*2ag'] # check with 1 location if cum_sum is working alright"
   ]
  },
  {
   "cell_type": "markdown",
   "metadata": {},
   "source": [
    "# Bar chart race\n",
    "    -Location must figure on the chart only after it starts flowering.\n",
    "    -Points flowering data occurs only after 19th March, so filter dataframe to those.\n",
    "    -Use notnull to display points which are flowering only"
   ]
  },
  {
   "cell_type": "code",
   "execution_count": 282,
   "metadata": {},
   "outputs": [],
   "source": [
    "# Location must figure on the chart only after it starts flowering.\n",
    "# Points flowering data occurs only after 19th March, so filter dataframe to those.\n",
    "# Use notnull to display points which are flowering only\n",
    "# After 'points_flowering' reaches max, it should not decrease. Becasue as it approaches \"nan\" values, these locs disappear from the bar chart.\n",
    "\n",
    "#Retain max value of 'Points_flowering' column after it reaches max.\n",
    "dfg=df1.copy()\n",
    "dfg['Points_flowering']= dfg['Points_flowering'].astype(float)\n",
    "dfg['Points_flowering'].replace(np.nan,0, inplace=True)\n",
    "\n",
    "grouped = dfg.groupby('Location')\n",
    "for name,grp in grouped:\n",
    "    max_inc_val= 0\n",
    "    for ind,row in grp.iterrows():\n",
    "        if dfg.loc[ind,'Points_flowering'] > max_inc_val:\n",
    "            max_inc_val= dfg.loc[ind,'Points_flowering']\n",
    "        else:\n",
    "            dfg.loc[ind,'Points_flowering']=max_inc_val\n",
    "\n",
    "dfg.reset_index(inplace=True,drop=True)\n",
    "dfg.set_index('Date',inplace=True)\n",
    "dfg.drop(['12 Mar 20', '13 Mar 20', '16 Mar 20', '17 Mar 20', '18 Mar 20'],inplace=True) #drop dates with improper null\n",
    "dfg.reset_index(inplace=True)\n",
    "#df2"
   ]
  },
  {
   "cell_type": "code",
   "execution_count": 283,
   "metadata": {},
   "outputs": [],
   "source": [
    "# replace zeroes with nan values\n",
    "dfg['Points_flowering']=dfg['Points_flowering'].astype(str)\n",
    "dfg['Points_flowering'].replace('0.0', np.nan, inplace=True)\n",
    "dfg['Points_flowering'].replace('nan',np.nan,inplace=True)\n",
    "#remove location 7*c, which had only 1 flower and stopped.\n",
    "dfg=dfg[dfg['Location']!='7*c']\n",
    "#remove location 7*2a which had no new flowers.\n",
    "dfg=dfg[dfg['Location']!='7*2a']"
   ]
  },
  {
   "cell_type": "code",
   "execution_count": 284,
   "metadata": {},
   "outputs": [],
   "source": [
    "# Prepare dff from data set to be able to plot bar chart for 1 frame\n",
    "Date_first= dfpf['Date'].iloc[1]\n",
    "Date_last=dfpf['Date'].iloc[-1] #let us consider the last date for this\n",
    "current_day= Date_last\n",
    "dfpf=dfg[dfg['Points_flowering'].notnull()] # consider locations only once it flowers \n",
    "dff = (dfpf[dfpf['Date'].eq(current_day)]\n",
    "       .sort_values(by='cum_sum', ascending=True))\n",
    "#dff"
   ]
  },
  {
   "cell_type": "code",
   "execution_count": 285,
   "metadata": {},
   "outputs": [
    {
     "data": {
      "text/plain": [
       "<BarContainer object of 49 artists>"
      ]
     },
     "execution_count": 285,
     "metadata": {},
     "output_type": "execute_result"
    },
    {
     "data": {
      "image/png": "[encoded data removed]",
      "text/plain": [
       "<Figure size 1080x576 with 1 Axes>"
      ]
     },
     "metadata": {
      "needs_background": "light"
     },
     "output_type": "display_data"
    }
   ],
   "source": [
    "# Plot bar chart for 1 frame \"First Day\"\n",
    "fig, ax = plt.subplots(figsize=(15, 8))\n",
    "ax.barh(dff['Location'], dff['cum_sum'])"
   ]
  },
  {
   "cell_type": "code",
   "execution_count": 286,
   "metadata": {},
   "outputs": [
    {
     "data": {
      "text/plain": [
       "<BarContainer object of 11 artists>"
      ]
     },
     "execution_count": 286,
     "metadata": {},
     "output_type": "execute_result"
    },
    {
     "data": {
      "image/png": "[encoded data removed]",
      "text/plain": [
       "<Figure size 1080x576 with 1 Axes>"
      ]
     },
     "metadata": {
      "needs_background": "light"
     },
     "output_type": "display_data"
    }
   ],
   "source": [
    "# Plot bar chart for 1 frame \"Last Day\"\n",
    "\n",
    "Date_first= dfpf['Date'].iloc[1]\n",
    "Date_last=dfpf['Date'].iloc[-1] #let us consider the last date for this\n",
    "current_day= Date_first\n",
    "dfpf=dfg[dfg['Points_flowering'].notnull()] # consider locations only once it flowers \n",
    "dff = (dfpf[dfpf['Date'].eq(current_day)]\n",
    "       .sort_values(by='cum_sum', ascending=True))\n",
    "\n",
    "fig, ax = plt.subplots(figsize=(15, 8))\n",
    "ax.barh(dff['Location'], dff['cum_sum'])"
   ]
  },
  {
   "cell_type": "code",
   "execution_count": 287,
   "metadata": {},
   "outputs": [
    {
     "data": {
      "text/plain": [
       "array(['3.0', '2.0', '1.0', '5.0', '6.0', '4.0', '8.0', '7.0', '9.0',\n",
       "       '10.0', '11.0', '12.0', '13.0'], dtype=object)"
      ]
     },
     "execution_count": 287,
     "metadata": {},
     "output_type": "execute_result"
    }
   ],
   "source": [
    "#type(dfpf['Points_flowering'][0])\n",
    "dfpf['Points_flowering'].unique()"
   ]
  },
  {
   "cell_type": "code",
   "execution_count": 288,
   "metadata": {},
   "outputs": [],
   "source": [
    "colors = dict(zip(\n",
    "    ['1.0', '2.0', '3.0', '4.0','5.0', '6.0', '7.0','8.0','9.0','10.0','11.0','12.0','13.0'],\n",
    "    ['#85C1E9', '#5DADE2', '#3498DB', '#2E86C1','#2874A6', '#76D7C4',\n",
    "     '#48C9B0','#1ABC9C','#17A589','#148F77','#BB8FCE','#A569BD','#8E44AD']\n",
    "    ))"
   ]
  },
  {
   "cell_type": "code",
   "execution_count": 289,
   "metadata": {},
   "outputs": [
    {
     "data": {
      "image/png": "[encoded data removed]",
      "text/plain": [
       "<Figure size 576x1080 with 1 Axes>"
      ]
     },
     "metadata": {
      "needs_background": "light"
     },
     "output_type": "display_data"
    }
   ],
   "source": [
    "# Optimise table and pack into a function\n",
    "\n",
    "#fig, ax = plt.subplots(figsize=(15, 8)) # original layout\n",
    "fig, ax = plt.subplots(figsize=(8, 15))\n",
    "def draw_barchart(current_date):\n",
    "    dff = (dfpf[dfpf['Date'].eq(current_date)]\n",
    "       .sort_values(by='cum_sum', ascending=True))\n",
    "    ax.clear()\n",
    "    dff['color']=dff['Points_flowering'].apply(lambda x: colors[x])     \n",
    "    ax.barh(dff['Location'], dff['cum_sum'], color=dff.color)\n",
    "    dx = dff['cum_sum'].max() / 200\n",
    "    for i, (value, name) in enumerate(zip(dff['cum_sum'], dff['Location'])):\n",
    "        ax.text(value, i, value, ha='left') \n",
    "        #ax.text(value, i,     name,            ha='right')  # Tokyo: name\n",
    "    # ... polished styles\n",
    "    ax.text(0, 1.12, 'Cumulative new flowers per location',\n",
    "            transform=ax.transAxes, size=24, weight=600, ha='left')\n",
    "    ax.text(1, 0, 'by @appanna; credit @pratapvardhan', transform=ax.transAxes, ha='right',\n",
    "            color='#777777', bbox=dict(facecolor='white', alpha=0.8, edgecolor='white'))\n",
    "    plt.box(False)\n",
    "    ax.text(1, 0.4, current_date, transform=ax.transAxes, size=46, ha='right')\n",
    "    #ax.legend(colors)         \n",
    "    labels = list(colors.keys())\n",
    "    handles = [plt.Rectangle((0,0),1,1, color=colors[label]) for label in labels]\n",
    "    plt.legend(handles, labels, loc='lower center', title='Flowering points')\n",
    "    \n",
    "draw_barchart(Date_last)\n"
   ]
  },
  {
   "cell_type": "code",
   "execution_count": 299,
   "metadata": {},
   "outputs": [
    {
     "name": "stderr",
     "output_type": "stream",
     "text": [
      "posx and posy should be finite values\n",
      "posx and posy should be finite values\n",
      "posx and posy should be finite values\n",
      "posx and posy should be finite values\n",
      "posx and posy should be finite values\n",
      "posx and posy should be finite values\n",
      "posx and posy should be finite values\n",
      "posx and posy should be finite values\n",
      "posx and posy should be finite values\n",
      "posx and posy should be finite values\n",
      "posx and posy should be finite values\n",
      "posx and posy should be finite values\n"
     ]
    },
    {
     "data": {
      "image/png": "[encoded data removed]",
      "text/plain": [
       "<Figure size 576x1080 with 1 Axes>"
      ]
     },
     "metadata": {
      "needs_background": "light"
     },
     "output_type": "display_data"
    }
   ],
   "source": [
    "import matplotlib.animation as animation\n",
    "from IPython.display import HTML\n",
    "#fig, ax = plt.subplots(figsize=(15, 8))\n",
    "f=dfpf['Date'].unique() #date range to consider for animation frames\n",
    "fig, ax = plt.subplots(figsize=(8, 15))\n",
    "animator = animation.FuncAnimation(fig, draw_barchart, frames=f)\n",
    "HTML(animator.to_jshtml()) \n",
    "#animator.to_html5_video() \n",
    "#animator.save('Barchart_race_May_2021.mp4',writer=\"ffmpeg\", fps=2, bitrate=1800)\n",
    "\n",
    "#mywriter = animation.FFMpegWriter()\n",
    "animator.save('Barchart_race_May_2021.mp4',writer=\"ffmpeg\", fps=2, bitrate=1800)"
   ]
  },
  {
   "cell_type": "code",
   "execution_count": null,
   "metadata": {},
   "outputs": [],
   "source": [
    "mywriter = animation.FFMpegWriter()\n",
    "animator.save('Barchart_race_May_2021.mp4',writer=\"ffmpeg\", fps=2, bitrate=1800)"
   ]
  },
  {
   "cell_type": "code",
   "execution_count": 42,
   "metadata": {},
   "outputs": [
    {
     "data": {
      "text/html": [
       "<div>\n",
       "<style scoped>\n",
       "    .dataframe tbody tr th:only-of-type {\n",
       "        vertical-align: middle;\n",
       "    }\n",
       "\n",
       "    .dataframe tbody tr th {\n",
       "        vertical-align: top;\n",
       "    }\n",
       "\n",
       "    .dataframe thead th {\n",
       "        text-align: right;\n",
       "    }\n",
       "</style>\n",
       "<table border=\"1\" class=\"dataframe\">\n",
       "  <thead>\n",
       "    <tr style=\"text-align: right;\">\n",
       "      <th></th>\n",
       "      <th>Date</th>\n",
       "      <th>Location</th>\n",
       "      <th>Total_points</th>\n",
       "      <th>Points_flowering</th>\n",
       "      <th>New_flowers</th>\n",
       "      <th>Total_Flowers</th>\n",
       "      <th>cum_sum</th>\n",
       "    </tr>\n",
       "  </thead>\n",
       "  <tbody>\n",
       "    <tr>\n",
       "      <th>0</th>\n",
       "      <td>19 Mar 20</td>\n",
       "      <td>3*2ag</td>\n",
       "      <td>8</td>\n",
       "      <td>3</td>\n",
       "      <td>2.0</td>\n",
       "      <td>NaN</td>\n",
       "      <td>7.0</td>\n",
       "    </tr>\n",
       "    <tr>\n",
       "      <th>2</th>\n",
       "      <td>19 Mar 20</td>\n",
       "      <td>4*3a</td>\n",
       "      <td>9</td>\n",
       "      <td>2</td>\n",
       "      <td>1.0</td>\n",
       "      <td>NaN</td>\n",
       "      <td>5.0</td>\n",
       "    </tr>\n",
       "    <tr>\n",
       "      <th>3</th>\n",
       "      <td>19 Mar 20</td>\n",
       "      <td>4*2a</td>\n",
       "      <td>8</td>\n",
       "      <td>1</td>\n",
       "      <td>0.0</td>\n",
       "      <td>NaN</td>\n",
       "      <td>1.0</td>\n",
       "    </tr>\n",
       "    <tr>\n",
       "      <th>6</th>\n",
       "      <td>19 Mar 20</td>\n",
       "      <td>5*2a</td>\n",
       "      <td>1</td>\n",
       "      <td>1</td>\n",
       "      <td>0.0</td>\n",
       "      <td>NaN</td>\n",
       "      <td>3.0</td>\n",
       "    </tr>\n",
       "    <tr>\n",
       "      <th>8</th>\n",
       "      <td>19 Mar 20</td>\n",
       "      <td>5*4a</td>\n",
       "      <td>9</td>\n",
       "      <td>5</td>\n",
       "      <td>2.0</td>\n",
       "      <td>NaN</td>\n",
       "      <td>12.0</td>\n",
       "    </tr>\n",
       "  </tbody>\n",
       "</table>\n",
       "</div>"
      ],
      "text/plain": [
       "        Date Location Total_points Points_flowering  New_flowers  \\\n",
       "0  19 Mar 20    3*2ag            8                3          2.0   \n",
       "2  19 Mar 20     4*3a            9                2          1.0   \n",
       "3  19 Mar 20     4*2a            8                1          0.0   \n",
       "6  19 Mar 20     5*2a            1                1          0.0   \n",
       "8  19 Mar 20     5*4a            9                5          2.0   \n",
       "\n",
       "  Total_Flowers  cum_sum  \n",
       "0           NaN      7.0  \n",
       "2           NaN      5.0  \n",
       "3           NaN      1.0  \n",
       "6           NaN      3.0  \n",
       "8           NaN     12.0  "
      ]
     },
     "execution_count": 42,
     "metadata": {},
     "output_type": "execute_result"
    }
   ],
   "source": [
    "dfpf.head()"
   ]
  },
  {
   "cell_type": "code",
   "execution_count": null,
   "metadata": {},
   "outputs": [],
   "source": []
  }
 ],
 "metadata": {
  "kernelspec": {
   "display_name": "Python 3",
   "language": "python",
   "name": "python3"
  },
  "language_info": {
   "codemirror_mode": {
    "name": "ipython",
    "version": 3
   },
   "file_extension": ".py",
   "mimetype": "text/x-python",
   "name": "python",
   "nbconvert_exporter": "python",
   "pygments_lexer": "ipython3",
   "version": "3.8.5"
  }
 },
 "nbformat": 4,
 "nbformat_minor": 2
}
