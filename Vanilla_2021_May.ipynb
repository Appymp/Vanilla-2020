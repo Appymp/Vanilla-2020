{
 "cells": [
  {
   "cell_type": "code",
   "execution_count": 93,
   "metadata": {},
   "outputs": [],
   "source": [
    "import numpy as np\n",
    "import pandas as pd\n",
    "import seaborn as sns\n",
    "import matplotlib.pyplot as plt\n",
    "import matplotlib.animation as animation\n",
    "%matplotlib inline"
   ]
  },
  {
   "cell_type": "code",
   "execution_count": 94,
   "metadata": {},
   "outputs": [],
   "source": [
    "df=pd.read_csv('25_May.csv')"
   ]
  },
  {
   "cell_type": "markdown",
   "metadata": {},
   "source": [
    "# Cleaning plan\n",
    "* While collecting the data, some \"location\" codes were updated after few days.\n",
    "     * Overwrite all previous instances of the location to the new location code.\n",
    "* For the initial days, \"points_flowering\" was not being used. Consider this attribute from 19 march onwards.\n",
    "     * For days after 19 Mar, replace nan with 0.\n",
    "     * Transitions \"->\" can be summarised in a different table to check inference for many vines initiating new point flowering together (these points were discovered but in dormant state).\n",
    "     * In main table, only the current number of active flowering points (transitioned value of '->'), is relevant.\n",
    "* \"Total_points\" transitions \"->\" can be summarised in a different table. \n",
    "     * The main table, must only have the total number, for all fields. This is the 'Type'.\n",
    "     * Dates of transition may be studied later for indiicating when new points were discovered/observed\n",
    "* \"Total_flowers\" which was used for stock checks is relevant only for the last day \"25 May\"\n",
    "     "
   ]
  },
  {
   "cell_type": "code",
   "execution_count": 95,
   "metadata": {},
   "outputs": [
    {
     "data": {
      "text/html": [
       "<div>\n",
       "<style scoped>\n",
       "    .dataframe tbody tr th:only-of-type {\n",
       "        vertical-align: middle;\n",
       "    }\n",
       "\n",
       "    .dataframe tbody tr th {\n",
       "        vertical-align: top;\n",
       "    }\n",
       "\n",
       "    .dataframe thead th {\n",
       "        text-align: right;\n",
       "    }\n",
       "</style>\n",
       "<table border=\"1\" class=\"dataframe\">\n",
       "  <thead>\n",
       "    <tr style=\"text-align: right;\">\n",
       "      <th></th>\n",
       "      <th>Date</th>\n",
       "      <th>Location</th>\n",
       "      <th>Total points</th>\n",
       "      <th>Points flowering</th>\n",
       "      <th>New flowers</th>\n",
       "      <th>Total Flowers</th>\n",
       "    </tr>\n",
       "  </thead>\n",
       "  <tbody>\n",
       "    <tr>\n",
       "      <th>0</th>\n",
       "      <td>12 Mar 20</td>\n",
       "      <td>3*2ag</td>\n",
       "      <td>8</td>\n",
       "      <td>NaN</td>\n",
       "      <td>0.0</td>\n",
       "      <td>NaN</td>\n",
       "    </tr>\n",
       "    <tr>\n",
       "      <th>1</th>\n",
       "      <td>12 Mar 20</td>\n",
       "      <td>3*3g</td>\n",
       "      <td>2</td>\n",
       "      <td>NaN</td>\n",
       "      <td>NaN</td>\n",
       "      <td>NaN</td>\n",
       "    </tr>\n",
       "    <tr>\n",
       "      <th>2</th>\n",
       "      <td>12 Mar 20</td>\n",
       "      <td>4*3a</td>\n",
       "      <td>9</td>\n",
       "      <td>NaN</td>\n",
       "      <td>1.0</td>\n",
       "      <td>NaN</td>\n",
       "    </tr>\n",
       "    <tr>\n",
       "      <th>3</th>\n",
       "      <td>12 Mar 20</td>\n",
       "      <td>4*2a</td>\n",
       "      <td>8</td>\n",
       "      <td>NaN</td>\n",
       "      <td>NaN</td>\n",
       "      <td>NaN</td>\n",
       "    </tr>\n",
       "    <tr>\n",
       "      <th>4</th>\n",
       "      <td>12 Mar 20</td>\n",
       "      <td>5*2a</td>\n",
       "      <td>1</td>\n",
       "      <td>NaN</td>\n",
       "      <td>NaN</td>\n",
       "      <td>NaN</td>\n",
       "    </tr>\n",
       "  </tbody>\n",
       "</table>\n",
       "</div>"
      ],
      "text/plain": [
       "        Date Location Total points Points flowering  New flowers Total Flowers\n",
       "0  12 Mar 20    3*2ag            8              NaN          0.0           NaN\n",
       "1  12 Mar 20     3*3g            2              NaN          NaN           NaN\n",
       "2  12 Mar 20     4*3a            9              NaN          1.0           NaN\n",
       "3  12 Mar 20     4*2a            8              NaN          NaN           NaN\n",
       "4  12 Mar 20     5*2a            1              NaN          NaN           NaN"
      ]
     },
     "execution_count": 95,
     "metadata": {},
     "output_type": "execute_result"
    }
   ],
   "source": [
    "df.head()"
   ]
  },
  {
   "cell_type": "code",
   "execution_count": 96,
   "metadata": {},
   "outputs": [
    {
     "data": {
      "text/plain": [
       "Index(['Date', 'Location', 'Total_points', 'Points_flowering', 'New_flowers',\n",
       "       'Total_Flowers'],\n",
       "      dtype='object')"
      ]
     },
     "execution_count": 96,
     "metadata": {},
     "output_type": "execute_result"
    }
   ],
   "source": [
    "# Replace the spaces in the column names\n",
    "df.columns=df.columns.str.replace(' ','_') #Rename columns to remove blank space\n",
    "df.columns"
   ]
  },
  {
   "cell_type": "code",
   "execution_count": 97,
   "metadata": {},
   "outputs": [
    {
     "data": {
      "text/plain": [
       "array(['3*2ag', '3*3g', '4*3a', '4*2a', '5*2a', '5*2ag', '4*3a2g', '5*4a',\n",
       "       '5*4as', '6*5a', '7*3as', '7*3a', '7*2a', '7*a', '6*2a', '7*c',\n",
       "       '9*2a', '8*d', '8*3a', '8*3a2s', '10*as', '11*g', '12*g', '13*g',\n",
       "       '8*4a', '8*4a2s', '12*2ag', '15*2d', '17*a', '19*d', '20*a',\n",
       "       '23*3a', '10*s', '21*g', '7*3a3s', '7*3a2s', '10*2a', '16*m',\n",
       "       '5*3as', '19*2d', '25*3g', '19*m', '17*m', '18*g', '1*4a', '2*5a',\n",
       "       '18*m', '19*s', '19*s->19*m', '19*m->19*2m', '19*2m', '12*m',\n",
       "       '12*2a', '12*2g', '11*a', '12*2a->12*a', '12*a', '8*2d',\n",
       "       '10*s -> 10*m', '10*2m', '10*as->10*2m', '10*2m->10*3m'],\n",
       "      dtype=object)"
      ]
     },
     "execution_count": 97,
     "metadata": {},
     "output_type": "execute_result"
    }
   ],
   "source": [
    "# check unique locations\n",
    "df1=df.copy(deep=True) #make copy to preserve original dataframe \n",
    "df1['Location'].unique()"
   ]
  },
  {
   "cell_type": "code",
   "execution_count": 98,
   "metadata": {},
   "outputs": [
    {
     "data": {
      "text/plain": [
       "62"
      ]
     },
     "execution_count": 98,
     "metadata": {},
     "output_type": "execute_result"
    }
   ],
   "source": [
    "# Number of unique locations before cleaning (including transitions)\n",
    "len(df1['Location'].unique())"
   ]
  },
  {
   "cell_type": "markdown",
   "metadata": {},
   "source": [
    "## \"Location\" column cleaning algorithm\n",
    "Since location code depended on relative tree position, some codes were updated on later date to represent location more clearly. These tranistioned locations have to be regularised to the most recent code.\n",
    "* Iterate from bottom to top since changes apply to all preceding instances.\n",
    "* When a \"a->b\" occurs, for all preceding index locations containing a, replace with b.\n",
    "* At the transitioning \"->\" locations retain only the updated value.\n",
    "\n",
    "Observations:\n",
    "- Some transitions had a space: 10*s->' '10*m. "
   ]
  },
  {
   "cell_type": "code",
   "execution_count": 99,
   "metadata": {},
   "outputs": [
    {
     "data": {
      "text/html": [
       "<div>\n",
       "<style scoped>\n",
       "    .dataframe tbody tr th:only-of-type {\n",
       "        vertical-align: middle;\n",
       "    }\n",
       "\n",
       "    .dataframe tbody tr th {\n",
       "        vertical-align: top;\n",
       "    }\n",
       "\n",
       "    .dataframe thead th {\n",
       "        text-align: right;\n",
       "    }\n",
       "</style>\n",
       "<table border=\"1\" class=\"dataframe\">\n",
       "  <thead>\n",
       "    <tr style=\"text-align: right;\">\n",
       "      <th></th>\n",
       "      <th>Date</th>\n",
       "      <th>Location</th>\n",
       "      <th>Total_points</th>\n",
       "      <th>Points_flowering</th>\n",
       "      <th>New_flowers</th>\n",
       "      <th>Total_Flowers</th>\n",
       "    </tr>\n",
       "  </thead>\n",
       "  <tbody>\n",
       "    <tr>\n",
       "      <th>1538</th>\n",
       "      <td>23 Apr 20</td>\n",
       "      <td>19*s-&gt;19*m</td>\n",
       "      <td>1</td>\n",
       "      <td>1</td>\n",
       "      <td>0.0</td>\n",
       "      <td>NaN</td>\n",
       "    </tr>\n",
       "    <tr>\n",
       "      <th>1543</th>\n",
       "      <td>23 Apr 20</td>\n",
       "      <td>19*m-&gt;19*2m</td>\n",
       "      <td>2</td>\n",
       "      <td>2</td>\n",
       "      <td>2.0</td>\n",
       "      <td>NaN</td>\n",
       "    </tr>\n",
       "    <tr>\n",
       "      <th>1720</th>\n",
       "      <td>27 Apr 20</td>\n",
       "      <td>12*2a-&gt;12*a</td>\n",
       "      <td>2</td>\n",
       "      <td>0</td>\n",
       "      <td>0.0</td>\n",
       "      <td>NaN</td>\n",
       "    </tr>\n",
       "    <tr>\n",
       "      <th>2937</th>\n",
       "      <td>21 May 20</td>\n",
       "      <td>10*s -&gt; 10*m</td>\n",
       "      <td>9</td>\n",
       "      <td>0</td>\n",
       "      <td>0.0</td>\n",
       "      <td>NaN</td>\n",
       "    </tr>\n",
       "    <tr>\n",
       "      <th>2989</th>\n",
       "      <td>22 May 20</td>\n",
       "      <td>10*s -&gt; 10*m</td>\n",
       "      <td>9</td>\n",
       "      <td>0</td>\n",
       "      <td>0.0</td>\n",
       "      <td>NaN</td>\n",
       "    </tr>\n",
       "    <tr>\n",
       "      <th>3041</th>\n",
       "      <td>23 May 20</td>\n",
       "      <td>10*s -&gt; 10*m</td>\n",
       "      <td>9</td>\n",
       "      <td>0</td>\n",
       "      <td>0.0</td>\n",
       "      <td>NaN</td>\n",
       "    </tr>\n",
       "    <tr>\n",
       "      <th>3042</th>\n",
       "      <td>23 May 20</td>\n",
       "      <td>10*as-&gt;10*2m</td>\n",
       "      <td>7</td>\n",
       "      <td>0</td>\n",
       "      <td>0.0</td>\n",
       "      <td>NaN</td>\n",
       "    </tr>\n",
       "    <tr>\n",
       "      <th>3044</th>\n",
       "      <td>23 May 20</td>\n",
       "      <td>10*2m-&gt;10*3m</td>\n",
       "      <td>1</td>\n",
       "      <td>1</td>\n",
       "      <td>1.0</td>\n",
       "      <td>NaN</td>\n",
       "    </tr>\n",
       "    <tr>\n",
       "      <th>3093</th>\n",
       "      <td>24 May 20</td>\n",
       "      <td>10*s -&gt; 10*m</td>\n",
       "      <td>9</td>\n",
       "      <td>0</td>\n",
       "      <td>0.0</td>\n",
       "      <td>NaN</td>\n",
       "    </tr>\n",
       "    <tr>\n",
       "      <th>3094</th>\n",
       "      <td>24 May 20</td>\n",
       "      <td>10*as-&gt;10*2m</td>\n",
       "      <td>7</td>\n",
       "      <td>0</td>\n",
       "      <td>0.0</td>\n",
       "      <td>NaN</td>\n",
       "    </tr>\n",
       "    <tr>\n",
       "      <th>3096</th>\n",
       "      <td>24 May 20</td>\n",
       "      <td>10*2m-&gt;10*3m</td>\n",
       "      <td>1</td>\n",
       "      <td>1</td>\n",
       "      <td>0.0</td>\n",
       "      <td>NaN</td>\n",
       "    </tr>\n",
       "    <tr>\n",
       "      <th>3145</th>\n",
       "      <td>25 May 20</td>\n",
       "      <td>10*s -&gt; 10*m</td>\n",
       "      <td>9</td>\n",
       "      <td>0</td>\n",
       "      <td>0.0</td>\n",
       "      <td>9,4,10,8,11,10,12,9,1</td>\n",
       "    </tr>\n",
       "    <tr>\n",
       "      <th>3146</th>\n",
       "      <td>25 May 20</td>\n",
       "      <td>10*as-&gt;10*2m</td>\n",
       "      <td>7</td>\n",
       "      <td>0</td>\n",
       "      <td>0.0</td>\n",
       "      <td>10,11,9,5,10,4</td>\n",
       "    </tr>\n",
       "    <tr>\n",
       "      <th>3148</th>\n",
       "      <td>25 May 20</td>\n",
       "      <td>10*2m-&gt;10*3m</td>\n",
       "      <td>1</td>\n",
       "      <td>1</td>\n",
       "      <td>0.0</td>\n",
       "      <td>NaN</td>\n",
       "    </tr>\n",
       "  </tbody>\n",
       "</table>\n",
       "</div>"
      ],
      "text/plain": [
       "           Date      Location Total_points Points_flowering  New_flowers  \\\n",
       "1538  23 Apr 20    19*s->19*m            1                1          0.0   \n",
       "1543  23 Apr 20   19*m->19*2m            2                2          2.0   \n",
       "1720  27 Apr 20   12*2a->12*a            2                0          0.0   \n",
       "2937  21 May 20  10*s -> 10*m            9                0          0.0   \n",
       "2989  22 May 20  10*s -> 10*m            9                0          0.0   \n",
       "3041  23 May 20  10*s -> 10*m            9                0          0.0   \n",
       "3042  23 May 20  10*as->10*2m            7                0          0.0   \n",
       "3044  23 May 20  10*2m->10*3m            1                1          1.0   \n",
       "3093  24 May 20  10*s -> 10*m            9                0          0.0   \n",
       "3094  24 May 20  10*as->10*2m            7                0          0.0   \n",
       "3096  24 May 20  10*2m->10*3m            1                1          0.0   \n",
       "3145  25 May 20  10*s -> 10*m            9                0          0.0   \n",
       "3146  25 May 20  10*as->10*2m            7                0          0.0   \n",
       "3148  25 May 20  10*2m->10*3m            1                1          0.0   \n",
       "\n",
       "              Total_Flowers  \n",
       "1538                    NaN  \n",
       "1543                    NaN  \n",
       "1720                    NaN  \n",
       "2937                    NaN  \n",
       "2989                    NaN  \n",
       "3041                    NaN  \n",
       "3042                    NaN  \n",
       "3044                    NaN  \n",
       "3093                    NaN  \n",
       "3094                    NaN  \n",
       "3096                    NaN  \n",
       "3145  9,4,10,8,11,10,12,9,1  \n",
       "3146         10,11,9,5,10,4  \n",
       "3148                    NaN  "
      ]
     },
     "execution_count": 99,
     "metadata": {},
     "output_type": "execute_result"
    }
   ],
   "source": [
    "# On what dates did the location update (transitions) happen\n",
    "df1[df1['Location'].str.contains('->')]\n",
    "#Notice how some transitions have a space 10*s-> 10*m"
   ]
  },
  {
   "cell_type": "code",
   "execution_count": 100,
   "metadata": {},
   "outputs": [],
   "source": [
    "df1['Location']=df1['Location'].str.replace(' ','') #remove blank space in location column"
   ]
  },
  {
   "cell_type": "code",
   "execution_count": 101,
   "metadata": {},
   "outputs": [],
   "source": [
    "for indi, rowi in df1[::-1].iterrows(): #iterate the rows from bottom to top\n",
    "    if '->' in rowi['Location']:\n",
    "        a=df1.loc[indi,'Location'].split('->')[0]\n",
    "        b=df1.loc[indi,'Location'].split('->')[1]\n",
    "        df1.at[indi,'Location']=b #update transitions to second value\n",
    "        for indj, rowj in df1[indi:None:-1].iterrows():  #from transitioned value, change all previous references\n",
    "            if rowj['Location']==a:\n",
    "                df1.at[indj,'Location']=b    #use \".at\" since iterrows uses a copy which will not update original value\n",
    "\n",
    "#There may be redundant locs to identify and remove due to this."
   ]
  },
  {
   "cell_type": "code",
   "execution_count": 102,
   "metadata": {},
   "outputs": [
    {
     "data": {
      "text/plain": [
       "54"
      ]
     },
     "execution_count": 102,
     "metadata": {},
     "output_type": "execute_result"
    }
   ],
   "source": [
    "df1['Location'].unique() #check if all locations are unique and not transitioning.\n",
    "len(df1['Location'].unique()) #54 locs after cleaning. "
   ]
  },
  {
   "cell_type": "code",
   "execution_count": 103,
   "metadata": {},
   "outputs": [],
   "source": [
    "#Check which locations are not flowering and remove these redundant locs.\n",
    "a1=df1.replace(0,np.nan)\n",
    "a=a1.groupby(['Location'])['New_flowers'].count()\n",
    "a=pd.DataFrame(a)\n",
    "a.reset_index(inplace=True)\n",
    "a.rename(columns={'New_flowers': 'Days'}, inplace=True)\n",
    "a[a['Days']==0] #locations which have '0' flowering days\n",
    "\n",
    "redun_locs=list(a[a['Days']==0]['Location']) # 4 locs 10*2m,7*c, 8*3a, 8*3a2s are redundant. \n",
    "\n",
    "df1=df1[~df1['Location'].isin(redun_locs)]"
   ]
  },
  {
   "cell_type": "code",
   "execution_count": 104,
   "metadata": {},
   "outputs": [
    {
     "data": {
      "text/plain": [
       "50"
      ]
     },
     "execution_count": 104,
     "metadata": {},
     "output_type": "execute_result"
    }
   ],
   "source": [
    "len(df1['Location'].unique()) #50 locs after removing redundant locs"
   ]
  },
  {
   "cell_type": "markdown",
   "metadata": {},
   "source": [
    "#### Check 'Total_points' column "
   ]
  },
  {
   "cell_type": "code",
   "execution_count": 105,
   "metadata": {},
   "outputs": [
    {
     "data": {
      "text/html": [
       "<div>\n",
       "<style scoped>\n",
       "    .dataframe tbody tr th:only-of-type {\n",
       "        vertical-align: middle;\n",
       "    }\n",
       "\n",
       "    .dataframe tbody tr th {\n",
       "        vertical-align: top;\n",
       "    }\n",
       "\n",
       "    .dataframe thead th {\n",
       "        text-align: right;\n",
       "    }\n",
       "</style>\n",
       "<table border=\"1\" class=\"dataframe\">\n",
       "  <thead>\n",
       "    <tr style=\"text-align: right;\">\n",
       "      <th></th>\n",
       "      <th>Date</th>\n",
       "      <th>Location</th>\n",
       "      <th>Total_points</th>\n",
       "      <th>Points_flowering</th>\n",
       "      <th>New_flowers</th>\n",
       "      <th>Total_Flowers</th>\n",
       "    </tr>\n",
       "  </thead>\n",
       "  <tbody>\n",
       "    <tr>\n",
       "      <th>147</th>\n",
       "      <td>19 Mar 20</td>\n",
       "      <td>6*2a</td>\n",
       "      <td>2-&gt;1</td>\n",
       "      <td>0</td>\n",
       "      <td>0.0</td>\n",
       "      <td>NaN</td>\n",
       "    </tr>\n",
       "    <tr>\n",
       "      <th>349</th>\n",
       "      <td>25 Mar 20</td>\n",
       "      <td>7*3a</td>\n",
       "      <td>5-&gt;2</td>\n",
       "      <td>2</td>\n",
       "      <td>0.0</td>\n",
       "      <td>NaN</td>\n",
       "    </tr>\n",
       "    <tr>\n",
       "      <th>356</th>\n",
       "      <td>25 Mar 20</td>\n",
       "      <td>10*m</td>\n",
       "      <td>6-&gt;8</td>\n",
       "      <td>0</td>\n",
       "      <td>0.0</td>\n",
       "      <td>NaN</td>\n",
       "    </tr>\n",
       "    <tr>\n",
       "      <th>358</th>\n",
       "      <td>25 Mar 20</td>\n",
       "      <td>10*3m</td>\n",
       "      <td>2-&gt;3</td>\n",
       "      <td>0</td>\n",
       "      <td>0.0</td>\n",
       "      <td>NaN</td>\n",
       "    </tr>\n",
       "    <tr>\n",
       "      <th>360</th>\n",
       "      <td>25 Mar 20</td>\n",
       "      <td>11*g</td>\n",
       "      <td>2-&gt;3</td>\n",
       "      <td>0</td>\n",
       "      <td>0.0</td>\n",
       "      <td>NaN</td>\n",
       "    </tr>\n",
       "    <tr>\n",
       "      <th>400</th>\n",
       "      <td>26 Mar 20</td>\n",
       "      <td>15*2d</td>\n",
       "      <td>1-&gt;2</td>\n",
       "      <td>1</td>\n",
       "      <td>0.0</td>\n",
       "      <td>NaN</td>\n",
       "    </tr>\n",
       "    <tr>\n",
       "      <th>421</th>\n",
       "      <td>27 Mar 20</td>\n",
       "      <td>8*4a2s</td>\n",
       "      <td>2-&gt;3</td>\n",
       "      <td>0</td>\n",
       "      <td>0.0</td>\n",
       "      <td>NaN</td>\n",
       "    </tr>\n",
       "    <tr>\n",
       "      <th>426</th>\n",
       "      <td>27 Mar 20</td>\n",
       "      <td>7*2a</td>\n",
       "      <td>1-&gt;2</td>\n",
       "      <td>1</td>\n",
       "      <td>0.0</td>\n",
       "      <td>NaN</td>\n",
       "    </tr>\n",
       "    <tr>\n",
       "      <th>447</th>\n",
       "      <td>28 Mar 20</td>\n",
       "      <td>4*3a2g</td>\n",
       "      <td>11-&gt;12</td>\n",
       "      <td>0</td>\n",
       "      <td>0.0</td>\n",
       "      <td>NaN</td>\n",
       "    </tr>\n",
       "    <tr>\n",
       "      <th>470</th>\n",
       "      <td>28 Mar 20</td>\n",
       "      <td>10*3m</td>\n",
       "      <td>3-&gt;6</td>\n",
       "      <td>0</td>\n",
       "      <td>0.0</td>\n",
       "      <td>NaN</td>\n",
       "    </tr>\n",
       "    <tr>\n",
       "      <th>494</th>\n",
       "      <td>29 Mar 20</td>\n",
       "      <td>6*5a</td>\n",
       "      <td>1-&gt;2</td>\n",
       "      <td>1</td>\n",
       "      <td>1.0</td>\n",
       "      <td>NaN</td>\n",
       "    </tr>\n",
       "    <tr>\n",
       "      <th>508</th>\n",
       "      <td>29 Mar 20</td>\n",
       "      <td>10*3m</td>\n",
       "      <td>6-&gt;7</td>\n",
       "      <td>0</td>\n",
       "      <td>0.0</td>\n",
       "      <td>NaN</td>\n",
       "    </tr>\n",
       "    <tr>\n",
       "      <th>514</th>\n",
       "      <td>29 Mar 20</td>\n",
       "      <td>15*2d</td>\n",
       "      <td>2-&gt;3</td>\n",
       "      <td>1</td>\n",
       "      <td>1.0</td>\n",
       "      <td>NaN</td>\n",
       "    </tr>\n",
       "    <tr>\n",
       "      <th>525</th>\n",
       "      <td>30 Mar 20</td>\n",
       "      <td>4*2a</td>\n",
       "      <td>8-&gt;9</td>\n",
       "      <td>2</td>\n",
       "      <td>1.0</td>\n",
       "      <td>NaN</td>\n",
       "    </tr>\n",
       "    <tr>\n",
       "      <th>536</th>\n",
       "      <td>30 Mar 20</td>\n",
       "      <td>7*3a2s</td>\n",
       "      <td>1-&gt;2</td>\n",
       "      <td>0</td>\n",
       "      <td>0.0</td>\n",
       "      <td>NaN</td>\n",
       "    </tr>\n",
       "    <tr>\n",
       "      <th>558</th>\n",
       "      <td>30 Mar 20</td>\n",
       "      <td>21*g</td>\n",
       "      <td>1-&gt;2</td>\n",
       "      <td>0</td>\n",
       "      <td>0.0</td>\n",
       "      <td>NaN</td>\n",
       "    </tr>\n",
       "    <tr>\n",
       "      <th>738</th>\n",
       "      <td>4 Apr 20</td>\n",
       "      <td>10*m</td>\n",
       "      <td>8-&gt;9</td>\n",
       "      <td>0</td>\n",
       "      <td>0.0</td>\n",
       "      <td>NaN</td>\n",
       "    </tr>\n",
       "    <tr>\n",
       "      <th>836</th>\n",
       "      <td>7 Apr 20</td>\n",
       "      <td>4*3a</td>\n",
       "      <td>9-&gt;10</td>\n",
       "      <td>8-&gt;9</td>\n",
       "      <td>5.0</td>\n",
       "      <td>NaN</td>\n",
       "    </tr>\n",
       "    <tr>\n",
       "      <th>915</th>\n",
       "      <td>9 Apr 20</td>\n",
       "      <td>4*3a2g</td>\n",
       "      <td>12-&gt;13</td>\n",
       "      <td>8-&gt;9</td>\n",
       "      <td>7.0</td>\n",
       "      <td>NaN</td>\n",
       "    </tr>\n",
       "    <tr>\n",
       "      <th>969</th>\n",
       "      <td>10 Apr 20</td>\n",
       "      <td>7*3as</td>\n",
       "      <td>5-&gt;7</td>\n",
       "      <td>2-&gt;3</td>\n",
       "      <td>2.0</td>\n",
       "      <td>1,1,2</td>\n",
       "    </tr>\n",
       "    <tr>\n",
       "      <th>1231</th>\n",
       "      <td>16 Apr 20</td>\n",
       "      <td>21*g</td>\n",
       "      <td>2-&gt;3</td>\n",
       "      <td>1-&gt;3</td>\n",
       "      <td>2.0</td>\n",
       "      <td>NaN</td>\n",
       "    </tr>\n",
       "    <tr>\n",
       "      <th>1294</th>\n",
       "      <td>18 Apr 20</td>\n",
       "      <td>7*3a</td>\n",
       "      <td>2-&gt;1</td>\n",
       "      <td>2</td>\n",
       "      <td>0.0</td>\n",
       "      <td>NaN</td>\n",
       "    </tr>\n",
       "    <tr>\n",
       "      <th>1530</th>\n",
       "      <td>23 Apr 20</td>\n",
       "      <td>12*2ag</td>\n",
       "      <td>9-&gt;5</td>\n",
       "      <td>0</td>\n",
       "      <td>0.0</td>\n",
       "      <td>NaN</td>\n",
       "    </tr>\n",
       "    <tr>\n",
       "      <th>1821</th>\n",
       "      <td>29 Apr 20</td>\n",
       "      <td>12*2g</td>\n",
       "      <td>2-&gt;3</td>\n",
       "      <td>2</td>\n",
       "      <td>0.0</td>\n",
       "      <td>NaN</td>\n",
       "    </tr>\n",
       "  </tbody>\n",
       "</table>\n",
       "</div>"
      ],
      "text/plain": [
       "           Date Location Total_points Points_flowering  New_flowers  \\\n",
       "147   19 Mar 20     6*2a         2->1                0          0.0   \n",
       "349   25 Mar 20     7*3a         5->2                2          0.0   \n",
       "356   25 Mar 20     10*m         6->8                0          0.0   \n",
       "358   25 Mar 20    10*3m         2->3                0          0.0   \n",
       "360   25 Mar 20     11*g         2->3                0          0.0   \n",
       "400   26 Mar 20    15*2d         1->2                1          0.0   \n",
       "421   27 Mar 20   8*4a2s         2->3                0          0.0   \n",
       "426   27 Mar 20     7*2a         1->2                1          0.0   \n",
       "447   28 Mar 20   4*3a2g       11->12                0          0.0   \n",
       "470   28 Mar 20    10*3m         3->6                0          0.0   \n",
       "494   29 Mar 20     6*5a         1->2                1          1.0   \n",
       "508   29 Mar 20    10*3m         6->7                0          0.0   \n",
       "514   29 Mar 20    15*2d         2->3                1          1.0   \n",
       "525   30 Mar 20     4*2a         8->9                2          1.0   \n",
       "536   30 Mar 20   7*3a2s         1->2                0          0.0   \n",
       "558   30 Mar 20     21*g         1->2                0          0.0   \n",
       "738    4 Apr 20     10*m         8->9                0          0.0   \n",
       "836    7 Apr 20     4*3a        9->10             8->9          5.0   \n",
       "915    9 Apr 20   4*3a2g       12->13             8->9          7.0   \n",
       "969   10 Apr 20    7*3as         5->7             2->3          2.0   \n",
       "1231  16 Apr 20     21*g         2->3             1->3          2.0   \n",
       "1294  18 Apr 20     7*3a         2->1                2          0.0   \n",
       "1530  23 Apr 20   12*2ag         9->5                0          0.0   \n",
       "1821  29 Apr 20    12*2g         2->3                2          0.0   \n",
       "\n",
       "     Total_Flowers  \n",
       "147            NaN  \n",
       "349            NaN  \n",
       "356            NaN  \n",
       "358            NaN  \n",
       "360            NaN  \n",
       "400            NaN  \n",
       "421            NaN  \n",
       "426            NaN  \n",
       "447            NaN  \n",
       "470            NaN  \n",
       "494            NaN  \n",
       "508            NaN  \n",
       "514            NaN  \n",
       "525            NaN  \n",
       "536            NaN  \n",
       "558            NaN  \n",
       "738            NaN  \n",
       "836            NaN  \n",
       "915            NaN  \n",
       "969          1,1,2  \n",
       "1231           NaN  \n",
       "1294           NaN  \n",
       "1530           NaN  \n",
       "1821           NaN  "
      ]
     },
     "execution_count": 105,
     "metadata": {},
     "output_type": "execute_result"
    }
   ],
   "source": [
    "# Remove duplcite values of transition, keeping preserving only the first date of the transition\n",
    "df1[df1['Total_points'].str.contains('->', na=False)].drop_duplicates(subset=['Location','Total_points'], keep='first')\n",
    "#After inserting dictionary of \"rain/irrigated\" check correlation of new flowering points through \"Total_points\" "
   ]
  },
  {
   "cell_type": "markdown",
   "metadata": {},
   "source": [
    "#### Check 'Points_flowering' column "
   ]
  },
  {
   "cell_type": "code",
   "execution_count": 106,
   "metadata": {},
   "outputs": [
    {
     "data": {
      "text/html": [
       "<div>\n",
       "<style scoped>\n",
       "    .dataframe tbody tr th:only-of-type {\n",
       "        vertical-align: middle;\n",
       "    }\n",
       "\n",
       "    .dataframe tbody tr th {\n",
       "        vertical-align: top;\n",
       "    }\n",
       "\n",
       "    .dataframe thead th {\n",
       "        text-align: right;\n",
       "    }\n",
       "</style>\n",
       "<table border=\"1\" class=\"dataframe\">\n",
       "  <thead>\n",
       "    <tr style=\"text-align: right;\">\n",
       "      <th></th>\n",
       "      <th>Date</th>\n",
       "      <th>Location</th>\n",
       "      <th>Total_points</th>\n",
       "      <th>Points_flowering</th>\n",
       "      <th>New_flowers</th>\n",
       "      <th>Total_Flowers</th>\n",
       "    </tr>\n",
       "  </thead>\n",
       "  <tbody>\n",
       "    <tr>\n",
       "      <th>493</th>\n",
       "      <td>29 Mar 20</td>\n",
       "      <td>5*4a</td>\n",
       "      <td>9</td>\n",
       "      <td>5-&gt;6</td>\n",
       "      <td>9.0</td>\n",
       "      <td>NaN</td>\n",
       "    </tr>\n",
       "    <tr>\n",
       "      <th>522</th>\n",
       "      <td>30 Mar 20</td>\n",
       "      <td>3*2ag</td>\n",
       "      <td>8</td>\n",
       "      <td>3-&gt;5</td>\n",
       "      <td>4.0</td>\n",
       "      <td>NaN</td>\n",
       "    </tr>\n",
       "    <tr>\n",
       "      <th>638</th>\n",
       "      <td>2 Apr 20</td>\n",
       "      <td>4*3a2g</td>\n",
       "      <td>12</td>\n",
       "      <td>1-&gt;5</td>\n",
       "      <td>5.0</td>\n",
       "      <td>NaN</td>\n",
       "    </tr>\n",
       "    <tr>\n",
       "      <th>639</th>\n",
       "      <td>2 Apr 20</td>\n",
       "      <td>4*3a</td>\n",
       "      <td>9</td>\n",
       "      <td>2-&gt;4</td>\n",
       "      <td>4.0</td>\n",
       "      <td>NaN</td>\n",
       "    </tr>\n",
       "    <tr>\n",
       "      <th>640</th>\n",
       "      <td>2 Apr 20</td>\n",
       "      <td>4*2a</td>\n",
       "      <td>9</td>\n",
       "      <td>2-&gt;3</td>\n",
       "      <td>2.0</td>\n",
       "      <td>NaN</td>\n",
       "    </tr>\n",
       "    <tr>\n",
       "      <th>...</th>\n",
       "      <td>...</td>\n",
       "      <td>...</td>\n",
       "      <td>...</td>\n",
       "      <td>...</td>\n",
       "      <td>...</td>\n",
       "      <td>...</td>\n",
       "    </tr>\n",
       "    <tr>\n",
       "      <th>2882</th>\n",
       "      <td>20 May 20</td>\n",
       "      <td>8*2d</td>\n",
       "      <td>2</td>\n",
       "      <td>1-&gt;0</td>\n",
       "      <td>0.0</td>\n",
       "      <td>NaN</td>\n",
       "    </tr>\n",
       "    <tr>\n",
       "      <th>2902</th>\n",
       "      <td>20 May 20</td>\n",
       "      <td>18*g</td>\n",
       "      <td>8</td>\n",
       "      <td>4-&gt;3</td>\n",
       "      <td>3.0</td>\n",
       "      <td>NaN</td>\n",
       "    </tr>\n",
       "    <tr>\n",
       "      <th>2942</th>\n",
       "      <td>21 May 20</td>\n",
       "      <td>12*m</td>\n",
       "      <td>2</td>\n",
       "      <td>1-&gt;0</td>\n",
       "      <td>0.0</td>\n",
       "      <td>NaN</td>\n",
       "    </tr>\n",
       "    <tr>\n",
       "      <th>3058</th>\n",
       "      <td>23 May 20</td>\n",
       "      <td>18*g</td>\n",
       "      <td>8</td>\n",
       "      <td>3-&gt;2</td>\n",
       "      <td>2.0</td>\n",
       "      <td>NaN</td>\n",
       "    </tr>\n",
       "    <tr>\n",
       "      <th>3110</th>\n",
       "      <td>24 May 20</td>\n",
       "      <td>18*g</td>\n",
       "      <td>8</td>\n",
       "      <td>2-&gt;1</td>\n",
       "      <td>0.0</td>\n",
       "      <td>NaN</td>\n",
       "    </tr>\n",
       "  </tbody>\n",
       "</table>\n",
       "<p>213 rows × 6 columns</p>\n",
       "</div>"
      ],
      "text/plain": [
       "           Date Location Total_points Points_flowering  New_flowers  \\\n",
       "493   29 Mar 20     5*4a            9             5->6          9.0   \n",
       "522   30 Mar 20    3*2ag            8             3->5          4.0   \n",
       "638    2 Apr 20   4*3a2g           12             1->5          5.0   \n",
       "639    2 Apr 20     4*3a            9             2->4          4.0   \n",
       "640    2 Apr 20     4*2a            9             2->3          2.0   \n",
       "...         ...      ...          ...              ...          ...   \n",
       "2882  20 May 20     8*2d            2             1->0          0.0   \n",
       "2902  20 May 20     18*g            8             4->3          3.0   \n",
       "2942  21 May 20     12*m            2             1->0          0.0   \n",
       "3058  23 May 20     18*g            8             3->2          2.0   \n",
       "3110  24 May 20     18*g            8             2->1          0.0   \n",
       "\n",
       "     Total_Flowers  \n",
       "493            NaN  \n",
       "522            NaN  \n",
       "638            NaN  \n",
       "639            NaN  \n",
       "640            NaN  \n",
       "...            ...  \n",
       "2882           NaN  \n",
       "2902           NaN  \n",
       "2942           NaN  \n",
       "3058           NaN  \n",
       "3110           NaN  \n",
       "\n",
       "[213 rows x 6 columns]"
      ]
     },
     "execution_count": 106,
     "metadata": {},
     "output_type": "execute_result"
    }
   ],
   "source": [
    "# Unique dates on which new flowering points transitioned up or down\n",
    "df1[df1['Points_flowering'].str.contains('->', na=False)].drop_duplicates(subset=['Location','Points_flowering'],keep='first')"
   ]
  },
  {
   "cell_type": "code",
   "execution_count": 107,
   "metadata": {},
   "outputs": [],
   "source": [
    "# Export cleaned table to csv 'Clean_table':\n",
    "### Location transitions have been cleaned and redundant locs removed. 50 flowering locs.\n",
    "### Preserves the date of transition in 'total_points' and 'points_flowering'. These dates contain'->'.\n",
    "df1.to_csv('Clean_table.csv',index=False)"
   ]
  },
  {
   "cell_type": "code",
   "execution_count": null,
   "metadata": {},
   "outputs": [],
   "source": []
  },
  {
   "cell_type": "code",
   "execution_count": null,
   "metadata": {},
   "outputs": [],
   "source": []
  },
  {
   "cell_type": "markdown",
   "metadata": {},
   "source": [
    "# Visualizations"
   ]
  },
  {
   "cell_type": "code",
   "execution_count": 108,
   "metadata": {},
   "outputs": [
    {
     "data": {
      "text/plain": [
       "19"
      ]
     },
     "execution_count": 108,
     "metadata": {},
     "output_type": "execute_result"
    }
   ],
   "source": [
    "#Display the day with max new flowers:\n",
    "df1=pd.read_csv('Clean_table.csv')\n",
    "desc_maxflowers=pd.DataFrame(df1.groupby('Date')['New_flowers'].sum()).sort_values('New_flowers',ascending=False)\n",
    "maxflow_date=desc_maxflowers.index[0]\n",
    "max_date=df1[df1['Date']== maxflow_date]\n",
    "#len(max_date)\n",
    "#max_date\n",
    "# type(df1['New_flowers'][2])\n",
    "\n",
    "#Number of locations which have atleast 1 flower\n",
    "seas_locs=len(max_date[max_date['New_flowers'] != 0]) # 40 locs; Total locs is 50; 50 is still a much smaller part of total grid.\n",
    "max_date.sort_values('New_flowers',ascending=False,inplace=True) # Sort the locs in desc order of flowers\n",
    "\n",
    "#Number of locs which cumulate to 80%\n",
    "max_date['flow_cumul']=max_date['New_flowers'].cumsum()\n",
    "eigtper=max_date['flow_cumul'].iloc[-1]*0.8 #Value of 80% of the flowers. At iloc[-1] it is total new flowers for the day.\n",
    "len(max_date[max_date['flow_cumul']<eigtper]) # 19 locs\n",
    "\n"
   ]
  },
  {
   "cell_type": "code",
   "execution_count": 138,
   "metadata": {},
   "outputs": [],
   "source": [
    "#max_date"
   ]
  },
  {
   "cell_type": "code",
   "execution_count": 109,
   "metadata": {},
   "outputs": [
    {
     "data": {
      "text/plain": [
       "49.5"
      ]
     },
     "execution_count": 109,
     "metadata": {},
     "output_type": "execute_result"
    }
   ],
   "source": [
    "#Create new cols for each date: Flowering locs(>0);Eighty_perc_locs\n",
    "## O/p df Date; Total flowers; Flow_locs; eighty_locs\n",
    "\n",
    "\n",
    "#Function for counting locations which are flowering \"Flow_locs\"\n",
    "def flocs(x):\n",
    "    l=len(x[x!=0.0])#transform takes 'x' as the column x['a'] (series)\n",
    "    return(l)\n",
    "\n",
    "#Function for counting minimum no. of locs which have 80% of flowers\n",
    "def eigtlocs(x):\n",
    "    y=x.sort_values(ascending=False) #sort in descending to get min locations having max flowers\n",
    "    c=y.cumsum()\n",
    "    eightper=c.iloc[-1]*0.8\n",
    "    l=len(c[c<eightper])\n",
    "    return(l)\n",
    "    \n",
    "df2=df1.copy()\n",
    "df2['Total_New']=df2.groupby('Date')['New_flowers'].transform(sum) #New col with sum of flowers each day\n",
    "#df2[df2['Date']== '23 Apr 20']\n",
    "df2['Flow_locs']=df2.groupby('Date')['New_flowers'].transform(flocs)\n",
    "df2['Eighty_perc_locs']=df2.groupby('Date')['New_flowers'].transform(eigtlocs)\n",
    "#df2[df2['Date']== '22 Apr 20'] # For testing against max_flower_date from previous code block\n",
    "\n",
    "#Clean table grouped by our relevant columns\n",
    "perc_opt=df2.groupby('Date',sort=False)[['Total_New','Flow_locs','Eighty_perc_locs']].mean()\n",
    "\n",
    "#Column for focus percentage of locations having 80% of total flowers\n",
    "perc_opt['day_foc_perc']=perc_opt['Eighty_perc_locs']/perc_opt['Flow_locs']*100\n",
    "\n",
    "perc_opt.head()\n",
    "#perc_opt[perc_opt.index=='22 Apr 20']\n",
    "round(perc_opt['day_foc_perc'].mean(),1) # Mean focus percentage. #49.5%"
   ]
  },
  {
   "cell_type": "code",
   "execution_count": 110,
   "metadata": {},
   "outputs": [
    {
     "data": {
      "text/html": [
       "<div>\n",
       "<style scoped>\n",
       "    .dataframe tbody tr th:only-of-type {\n",
       "        vertical-align: middle;\n",
       "    }\n",
       "\n",
       "    .dataframe tbody tr th {\n",
       "        vertical-align: top;\n",
       "    }\n",
       "\n",
       "    .dataframe thead th {\n",
       "        text-align: right;\n",
       "    }\n",
       "</style>\n",
       "<table border=\"1\" class=\"dataframe\">\n",
       "  <thead>\n",
       "    <tr style=\"text-align: right;\">\n",
       "      <th></th>\n",
       "      <th>Total_New</th>\n",
       "      <th>Flow_locs</th>\n",
       "      <th>Eighty_perc_locs</th>\n",
       "      <th>day_foc_perc</th>\n",
       "      <th>seas_foc_perc</th>\n",
       "      <th>grid_foc_perc</th>\n",
       "    </tr>\n",
       "    <tr>\n",
       "      <th>Date</th>\n",
       "      <th></th>\n",
       "      <th></th>\n",
       "      <th></th>\n",
       "      <th></th>\n",
       "      <th></th>\n",
       "      <th></th>\n",
       "    </tr>\n",
       "  </thead>\n",
       "  <tbody>\n",
       "    <tr>\n",
       "      <th>22 Apr 20</th>\n",
       "      <td>138.0</td>\n",
       "      <td>40</td>\n",
       "      <td>19</td>\n",
       "      <td>47.5</td>\n",
       "      <td>47.5</td>\n",
       "      <td>23.75</td>\n",
       "    </tr>\n",
       "  </tbody>\n",
       "</table>\n",
       "</div>"
      ],
      "text/plain": [
       "           Total_New  Flow_locs  Eighty_perc_locs  day_foc_perc  \\\n",
       "Date                                                              \n",
       "22 Apr 20      138.0         40                19          47.5   \n",
       "\n",
       "           seas_foc_perc  grid_foc_perc  \n",
       "Date                                     \n",
       "22 Apr 20           47.5          23.75  "
      ]
     },
     "execution_count": 110,
     "metadata": {},
     "output_type": "execute_result"
    }
   ],
   "source": [
    "#There are more optimisation figures which may be relevant:\n",
    "## 80% holding locs compared with flowering locs of the day : day_foc_perc\n",
    "## 80% holding locs compared with total flowering locs : seas_foc_perc\n",
    "## 80% holding locs compared with full walking path(checking for new locs) : grid_foc_perc\n",
    "perc_opt['day_foc_perc']=perc_opt['Eighty_perc_locs']/perc_opt['Flow_locs']*100\n",
    "perc_opt['seas_foc_perc']=perc_opt['Eighty_perc_locs']/seas_locs*100\n",
    "perc_opt['grid_foc_perc']=perc_opt['Eighty_perc_locs']/80*100\n",
    "perc_opt[perc_opt.index=='22 Apr 20']"
   ]
  },
  {
   "cell_type": "code",
   "execution_count": 111,
   "metadata": {},
   "outputs": [],
   "source": [
    "# Visualise date vs foc_perc"
   ]
  },
  {
   "cell_type": "markdown",
   "metadata": {},
   "source": [
    "## Total new flowers per day across season\n"
   ]
  },
  {
   "cell_type": "code",
   "execution_count": 223,
   "metadata": {},
   "outputs": [
    {
     "data": {
      "text/html": [
       "<div>\n",
       "<style scoped>\n",
       "    .dataframe tbody tr th:only-of-type {\n",
       "        vertical-align: middle;\n",
       "    }\n",
       "\n",
       "    .dataframe tbody tr th {\n",
       "        vertical-align: top;\n",
       "    }\n",
       "\n",
       "    .dataframe thead th {\n",
       "        text-align: right;\n",
       "    }\n",
       "</style>\n",
       "<table border=\"1\" class=\"dataframe\">\n",
       "  <thead>\n",
       "    <tr style=\"text-align: right;\">\n",
       "      <th></th>\n",
       "      <th>Date</th>\n",
       "      <th>Location</th>\n",
       "      <th>Total_points</th>\n",
       "      <th>Points_flowering</th>\n",
       "      <th>New_flowers</th>\n",
       "      <th>Total_Flowers</th>\n",
       "    </tr>\n",
       "  </thead>\n",
       "  <tbody>\n",
       "    <tr>\n",
       "      <th>0</th>\n",
       "      <td>12 Mar 20</td>\n",
       "      <td>3*2ag</td>\n",
       "      <td>8</td>\n",
       "      <td>NaN</td>\n",
       "      <td>0.0</td>\n",
       "      <td>NaN</td>\n",
       "    </tr>\n",
       "    <tr>\n",
       "      <th>1</th>\n",
       "      <td>12 Mar 20</td>\n",
       "      <td>3*3g</td>\n",
       "      <td>2</td>\n",
       "      <td>NaN</td>\n",
       "      <td>NaN</td>\n",
       "      <td>NaN</td>\n",
       "    </tr>\n",
       "    <tr>\n",
       "      <th>2</th>\n",
       "      <td>12 Mar 20</td>\n",
       "      <td>4*3a</td>\n",
       "      <td>9</td>\n",
       "      <td>NaN</td>\n",
       "      <td>1.0</td>\n",
       "      <td>NaN</td>\n",
       "    </tr>\n",
       "    <tr>\n",
       "      <th>3</th>\n",
       "      <td>12 Mar 20</td>\n",
       "      <td>4*2a</td>\n",
       "      <td>8</td>\n",
       "      <td>NaN</td>\n",
       "      <td>NaN</td>\n",
       "      <td>NaN</td>\n",
       "    </tr>\n",
       "    <tr>\n",
       "      <th>4</th>\n",
       "      <td>12 Mar 20</td>\n",
       "      <td>5*2a</td>\n",
       "      <td>1</td>\n",
       "      <td>NaN</td>\n",
       "      <td>NaN</td>\n",
       "      <td>NaN</td>\n",
       "    </tr>\n",
       "  </tbody>\n",
       "</table>\n",
       "</div>"
      ],
      "text/plain": [
       "        Date Location Total_points Points_flowering  New_flowers Total_Flowers\n",
       "0  12 Mar 20    3*2ag            8              NaN          0.0           NaN\n",
       "1  12 Mar 20     3*3g            2              NaN          NaN           NaN\n",
       "2  12 Mar 20     4*3a            9              NaN          1.0           NaN\n",
       "3  12 Mar 20     4*2a            8              NaN          NaN           NaN\n",
       "4  12 Mar 20     5*2a            1              NaN          NaN           NaN"
      ]
     },
     "execution_count": 223,
     "metadata": {},
     "output_type": "execute_result"
    }
   ],
   "source": [
    "df1.head()"
   ]
  },
  {
   "cell_type": "code",
   "execution_count": 224,
   "metadata": {},
   "outputs": [
    {
     "data": {
      "text/plain": [
       "<AxesSubplot:xlabel='Date', ylabel='New_flowers'>"
      ]
     },
     "execution_count": 224,
     "metadata": {},
     "output_type": "execute_result"
    },
    {
     "data": {
      "image/png": "[encoded data removed]",
      "text/plain": [
       "<Figure size 1152x432 with 1 Axes>"
      ]
     },
     "metadata": {},
     "output_type": "display_data"
    }
   ],
   "source": [
    "plt.figure(figsize=(16,6))\n",
    "plt.xticks(rotation=90)\n",
    "#sns.catplot(x='Date', y='New_flowers',data=df1,estimator=sum, kind='bar', ci= False, palette='Blues_r')\n",
    "sns.barplot(x='Date', y='New_flowers',data=df1,estimator=sum, ci= False, )"
   ]
  },
  {
   "cell_type": "markdown",
   "metadata": {},
   "source": [
    "### Remove transitions in 'Total_points' and 'Points_flowering' column"
   ]
  },
  {
   "cell_type": "code",
   "execution_count": 139,
   "metadata": {},
   "outputs": [],
   "source": [
    "#For transitions with '->' use second character\n",
    "\n",
    "df2=df1.copy(deep=True) #save all previous transformations \n",
    "df2['Points_flowering']=df2['Points_flowering'].str.replace(' ','') #remove blank space in location column\n",
    "df2['Points_flowering']=df2['Points_flowering'].str.replace('–','-') #format of dash made uniform\n",
    "df2['Total_points']=df2['Total_points'].str.replace(' ','') #remove blank space in location column\n",
    "df2['Total_points']=df2['Total_points'].str.replace('–','-') #format of dash made uniform\n",
    "\n",
    "\n",
    "df2['Total_points']=df2['Total_points'].astype(str)#mixed float and str objects converted to uniform str column\n",
    "df2['Points_flowering']=df2['Points_flowering'].astype(str)\n",
    "for ind,row in df2.iterrows():\n",
    "    if '->' in row['Total_points']:\n",
    "        df2.loc[ind,'Total_points']=df2.loc[ind,'Total_points'].split('->')[1] # select 2nd location\n",
    "    if '->' in row['Points_flowering']:\n",
    "        df2.loc[ind,'Points_flowering']=df2.loc[ind,'Points_flowering'].split('->')[1] # select 2nd location\n",
    "        "
   ]
  },
  {
   "cell_type": "code",
   "execution_count": 143,
   "metadata": {},
   "outputs": [
    {
     "data": {
      "text/plain": [
       "3"
      ]
     },
     "execution_count": 143,
     "metadata": {},
     "output_type": "execute_result"
    }
   ],
   "source": [
    "#df2[df2['Date']=='12 Mar 20']\n",
    "df2[df2['Date']=='12 Mar 20']['New_flowers'].count() # Count includes 0 value as a count. So affects days."
   ]
  },
  {
   "cell_type": "code",
   "execution_count": 172,
   "metadata": {},
   "outputs": [
    {
     "data": {
      "text/plain": [
       "2"
      ]
     },
     "execution_count": 172,
     "metadata": {},
     "output_type": "execute_result"
    }
   ],
   "source": [
    "#Replace 0 with nan so that it does not affect 'count' aggregations\n",
    "df2=df2.replace(0,np.nan)\n",
    "df2=df2.replace(0.0,np.nan)\n",
    "df2=df2.replace('nan',np.nan)\n",
    "\n",
    "#df2[df2['Date']=='12 Mar 20']['New_flowers'].count() #0 converted to nan so count works properly\n",
    "#df2[df2['Date']=='12 Mar 20']['Points_flowering'].count() #Should be 0. Initially had string value 'nan' so count was 21"
   ]
  },
  {
   "cell_type": "code",
   "execution_count": 210,
   "metadata": {},
   "outputs": [
    {
     "data": {
      "text/html": [
       "<div>\n",
       "<style scoped>\n",
       "    .dataframe tbody tr th:only-of-type {\n",
       "        vertical-align: middle;\n",
       "    }\n",
       "\n",
       "    .dataframe tbody tr th {\n",
       "        vertical-align: top;\n",
       "    }\n",
       "\n",
       "    .dataframe thead th {\n",
       "        text-align: right;\n",
       "    }\n",
       "</style>\n",
       "<table border=\"1\" class=\"dataframe\">\n",
       "  <thead>\n",
       "    <tr style=\"text-align: right;\">\n",
       "      <th></th>\n",
       "      <th>Date</th>\n",
       "      <th>Location</th>\n",
       "      <th>Total_points</th>\n",
       "      <th>Points_flowering</th>\n",
       "      <th>New_flowers</th>\n",
       "      <th>Total_Flowers</th>\n",
       "    </tr>\n",
       "  </thead>\n",
       "  <tbody>\n",
       "    <tr>\n",
       "      <th>0</th>\n",
       "      <td>12 Mar 20</td>\n",
       "      <td>3*2ag</td>\n",
       "      <td>8.0</td>\n",
       "      <td>NaN</td>\n",
       "      <td>NaN</td>\n",
       "      <td>NaN</td>\n",
       "    </tr>\n",
       "    <tr>\n",
       "      <th>1</th>\n",
       "      <td>12 Mar 20</td>\n",
       "      <td>3*3g</td>\n",
       "      <td>2.0</td>\n",
       "      <td>NaN</td>\n",
       "      <td>NaN</td>\n",
       "      <td>NaN</td>\n",
       "    </tr>\n",
       "    <tr>\n",
       "      <th>2</th>\n",
       "      <td>12 Mar 20</td>\n",
       "      <td>4*3a</td>\n",
       "      <td>10.0</td>\n",
       "      <td>NaN</td>\n",
       "      <td>1.0</td>\n",
       "      <td>NaN</td>\n",
       "    </tr>\n",
       "    <tr>\n",
       "      <th>3</th>\n",
       "      <td>12 Mar 20</td>\n",
       "      <td>4*2a</td>\n",
       "      <td>9.0</td>\n",
       "      <td>NaN</td>\n",
       "      <td>NaN</td>\n",
       "      <td>NaN</td>\n",
       "    </tr>\n",
       "    <tr>\n",
       "      <th>4</th>\n",
       "      <td>12 Mar 20</td>\n",
       "      <td>5*2a</td>\n",
       "      <td>1.0</td>\n",
       "      <td>NaN</td>\n",
       "      <td>NaN</td>\n",
       "      <td>NaN</td>\n",
       "    </tr>\n",
       "  </tbody>\n",
       "</table>\n",
       "</div>"
      ],
      "text/plain": [
       "        Date Location  Total_points Points_flowering  New_flowers  \\\n",
       "0  12 Mar 20    3*2ag           8.0              NaN          NaN   \n",
       "1  12 Mar 20     3*3g           2.0              NaN          NaN   \n",
       "2  12 Mar 20     4*3a          10.0              NaN          1.0   \n",
       "3  12 Mar 20     4*2a           9.0              NaN          NaN   \n",
       "4  12 Mar 20     5*2a           1.0              NaN          NaN   \n",
       "\n",
       "  Total_Flowers  \n",
       "0           NaN  \n",
       "1           NaN  \n",
       "2           NaN  \n",
       "3           NaN  \n",
       "4           NaN  "
      ]
     },
     "execution_count": 210,
     "metadata": {},
     "output_type": "execute_result"
    }
   ],
   "source": [
    "type(df2['Points_flowering'][0])\n",
    "df2.head()"
   ]
  },
  {
   "cell_type": "code",
   "execution_count": 220,
   "metadata": {},
   "outputs": [],
   "source": [
    "# Edit the 'Points_flowering' column which are 'nan' but actually has new flowers\n",
    "df2[(df2['Points_flowering'].isna()) & (~df2['New_flowers'].isnull())]\n",
    "\n",
    "#initialise the 'Points_flowering' at the condition to a token minimum of 1 (at least 1 flowering point)\n",
    "df2.loc[(df2['Points_flowering'].isna()) & (~df2['New_flowers'].isnull()), 'Points_flowering'] = 1\n",
    "\n"
   ]
  },
  {
   "cell_type": "code",
   "execution_count": 233,
   "metadata": {},
   "outputs": [],
   "source": [
    "#df2[(df2['Points_flowering'].isna()) & (~df2['New_flowers'].isnull())]"
   ]
  },
  {
   "cell_type": "markdown",
   "metadata": {},
   "source": [
    "## Total active 'Points_flowering' per day across the season"
   ]
  },
  {
   "cell_type": "code",
   "execution_count": 231,
   "metadata": {},
   "outputs": [
    {
     "data": {
      "text/plain": [
       "True"
      ]
     },
     "execution_count": 231,
     "metadata": {},
     "output_type": "execute_result"
    }
   ],
   "source": [
    "#Check if column is numeric\n",
    "from pandas.api.types import is_numeric_dtype\n",
    "is_numeric_dtype(df2['Points_flowering'])\n",
    "\n",
    "#Change the column to numeric to allow plotting\n",
    "df2[\"Points_flowering\"] = pd.to_numeric(df2[\"Points_flowering\"])"
   ]
  },
  {
   "cell_type": "code",
   "execution_count": null,
   "metadata": {},
   "outputs": [],
   "source": [
    "#Change the value of 'Points flowering' of 18 Mar to include 17 Mar identified points flowering.\n",
    "#Identify a more automatic way to execute this. Currently manually editing the cells.\n",
    "\n",
    "#df2[df2['Date']=='18 Mar 20']\n",
    "#Use .at to set new values. Manually noted ilocs for 18 mar which had to be updated.\n",
    "df2.at[102,'Points_flowering']=3.0 \n",
    "df2.at[105,'Points_flowering']=1.0 \n",
    "df2.at[108,'Points_flowering']=1.0 \n",
    "df2.at[110,'Points_flowering']=1.0 \n",
    "df2.at[111,'Points_flowering']=1.0 \n",
    "df2.at[112,'Points_flowering']=1.0 \n",
    "df2.at[119,'Points_flowering']=1.0 "
   ]
  },
  {
   "cell_type": "code",
   "execution_count": 275,
   "metadata": {},
   "outputs": [
    {
     "data": {
      "text/plain": [
       "<AxesSubplot:xlabel='Date', ylabel='Points_flowering'>"
      ]
     },
     "execution_count": 275,
     "metadata": {},
     "output_type": "execute_result"
    },
    {
     "data": {
      "image/png": "[encoded data removed]",
      "text/plain": [
       "<Figure size 1152x432 with 1 Axes>"
      ]
     },
     "metadata": {},
     "output_type": "display_data"
    }
   ],
   "source": [
    "plt.figure(figsize=(16,6))\n",
    "plt.xticks(rotation=90)\n",
    "#plt.xlabel('Points')\n",
    "\n",
    "sns.barplot(x='Date', y='Points_flowering',data=df2, estimator=sum, ci= False ) #Any location"
   ]
  },
  {
   "cell_type": "markdown",
   "metadata": {},
   "source": [
    "## Total number of 'Locations' flowering per day across the season"
   ]
  },
  {
   "cell_type": "code",
   "execution_count": 281,
   "metadata": {},
   "outputs": [
    {
     "data": {
      "text/plain": [
       "<AxesSubplot:xlabel='Date', ylabel='New_flowers'>"
      ]
     },
     "execution_count": 281,
     "metadata": {},
     "output_type": "execute_result"
    },
    {
     "data": {
      "image/png": "[encoded data removed]",
      "text/plain": [
       "<Figure size 1152x432 with 1 Axes>"
      ]
     },
     "metadata": {},
     "output_type": "display_data"
    }
   ],
   "source": [
    "plt.figure(figsize=(16,6))\n",
    "plt.xticks(rotation=90)\n",
    "\n",
    "#Use 'New_flowers' because if it has not null, then it is counted as a flowering location.\n",
    "sns.barplot(x='Date', y='New_flowers',data=df2,estimator= lambda x:len(x) , ci= False ) #Use lambda function for count."
   ]
  },
  {
   "cell_type": "markdown",
   "metadata": {},
   "source": [
    "## Behaviors based on type (number of flowering points)\n",
    "Overwrite all values in 'total_points' to only the last updated value. Most cases this is the max value for the location. \"Type\" of a vine is defined by the number of flowering points it contains 'Total_points'."
   ]
  },
  {
   "cell_type": "code",
   "execution_count": 146,
   "metadata": {},
   "outputs": [
    {
     "data": {
      "text/html": [
       "<div>\n",
       "<style scoped>\n",
       "    .dataframe tbody tr th:only-of-type {\n",
       "        vertical-align: middle;\n",
       "    }\n",
       "\n",
       "    .dataframe tbody tr th {\n",
       "        vertical-align: top;\n",
       "    }\n",
       "\n",
       "    .dataframe thead th {\n",
       "        text-align: right;\n",
       "    }\n",
       "</style>\n",
       "<table border=\"1\" class=\"dataframe\">\n",
       "  <thead>\n",
       "    <tr style=\"text-align: right;\">\n",
       "      <th></th>\n",
       "      <th>Date</th>\n",
       "      <th>Location</th>\n",
       "      <th>Total_points</th>\n",
       "      <th>Points_flowering</th>\n",
       "      <th>New_flowers</th>\n",
       "      <th>Total_Flowers</th>\n",
       "    </tr>\n",
       "  </thead>\n",
       "  <tbody>\n",
       "  </tbody>\n",
       "</table>\n",
       "</div>"
      ],
      "text/plain": [
       "Empty DataFrame\n",
       "Columns: [Date, Location, Total_points, Points_flowering, New_flowers, Total_Flowers]\n",
       "Index: []"
      ]
     },
     "execution_count": 146,
     "metadata": {},
     "output_type": "execute_result"
    }
   ],
   "source": [
    "# Overwrite all values in total_points to only the highest value.\n",
    "df2.groupby(['Location','Total_points']).sum() #check where there are multiple values for total_points\n",
    "df2[df2['Location']=='10*2m']"
   ]
  },
  {
   "cell_type": "code",
   "execution_count": 147,
   "metadata": {},
   "outputs": [],
   "source": [
    "df2['Total_points']=df2['Total_points'].astype(float) #convert column to float for max operation.\n",
    "df2['New_flowers']=df2['New_flowers'].astype(float) \n",
    "#convert \"Total_points\" to highest value within subgroup\n",
    "df2['Total_points']=df2.groupby('Location')['Total_points'].transform(lambda x: x.max()) \n",
    "\n",
    "#Remove certain locations which became redundant due to updated location ID \n",
    "df3 = df2[df2.Location != {'8*3a2s','8*3a','7*c','10*2m'}]\n",
    "#df3.groupby(['Location','Total_points']).sum()  #to check if operation was successful"
   ]
  },
  {
   "cell_type": "markdown",
   "metadata": {},
   "source": [
    "### Season total of new flowers "
   ]
  },
  {
   "cell_type": "code",
   "execution_count": 148,
   "metadata": {},
   "outputs": [
    {
     "data": {
      "text/plain": [
       "<AxesSubplot:xlabel='Total_points', ylabel='New_flowers'>"
      ]
     },
     "execution_count": 148,
     "metadata": {},
     "output_type": "execute_result"
    },
    {
     "data": {
      "image/png": "[encoded data removed]",
      "text/plain": [
       "<Figure size 720x432 with 1 Axes>"
      ]
     },
     "metadata": {},
     "output_type": "display_data"
    }
   ],
   "source": [
    "plt.figure(figsize=(10,6))\n",
    "sns.barplot(x='Total_points', y='New_flowers',data=df3,estimator=sum, ci= False, )"
   ]
  },
  {
   "cell_type": "markdown",
   "metadata": {},
   "source": [
    "### New flowers per day "
   ]
  },
  {
   "cell_type": "code",
   "execution_count": 149,
   "metadata": {},
   "outputs": [
    {
     "data": {
      "text/plain": [
       "<AxesSubplot:xlabel='Total_points', ylabel='New_flowers'>"
      ]
     },
     "execution_count": 149,
     "metadata": {},
     "output_type": "execute_result"
    },
    {
     "data": {
      "image/png": "[encoded data removed]",
      "text/plain": [
       "<Figure size 720x432 with 1 Axes>"
      ]
     },
     "metadata": {},
     "output_type": "display_data"
    }
   ],
   "source": [
    "df3=df3.replace(0,np.nan)\n",
    "sns.set_style('whitegrid')\n",
    "plt.figure(figsize=(10,6))\n",
    "sns.boxplot(data=df3,x='Total_points',y='New_flowers')"
   ]
  },
  {
   "cell_type": "code",
   "execution_count": 150,
   "metadata": {},
   "outputs": [
    {
     "data": {
      "image/png": "[encoded data removed]",
      "text/plain": [
       "<Figure size 720x432 with 1 Axes>"
      ]
     },
     "metadata": {},
     "output_type": "display_data"
    }
   ],
   "source": [
    "fig, ax = plt.subplots(figsize=(10,6))\n",
    "g=sns.swarmplot(data=df3,x='Total_points',y='New_flowers', hue='Location')\n",
    "g.get_legend().set_visible(False)"
   ]
  },
  {
   "cell_type": "markdown",
   "metadata": {},
   "source": [
    "Each dot of a certain color represents the number of new flowers on a particular day by a paricular location."
   ]
  },
  {
   "cell_type": "markdown",
   "metadata": {},
   "source": [
    "### Count of vines"
   ]
  },
  {
   "cell_type": "code",
   "execution_count": 151,
   "metadata": {},
   "outputs": [
    {
     "name": "stdout",
     "output_type": "stream",
     "text": [
      "There are a total of 50 unique flowering locations\n"
     ]
    }
   ],
   "source": [
    "#Number of vines flowering for the year\n",
    "n=len(df3['Location'].unique())\n",
    "print(\"There are a total of\", n ,\"unique flowering locations\")"
   ]
  },
  {
   "cell_type": "code",
   "execution_count": 152,
   "metadata": {},
   "outputs": [
    {
     "data": {
      "text/plain": [
       "<AxesSubplot:xlabel='Total_points'>"
      ]
     },
     "execution_count": 152,
     "metadata": {},
     "output_type": "execute_result"
    },
    {
     "data": {
      "image/png": "[encoded data removed]",
      "text/plain": [
       "<Figure size 720x432 with 1 Axes>"
      ]
     },
     "metadata": {},
     "output_type": "display_data"
    }
   ],
   "source": [
    "#Number of vines of a particular type\n",
    "fig, ax = plt.subplots(figsize=(10,6))\n",
    "df3.groupby(['Total_points'])['Location'].nunique().plot(kind='bar')"
   ]
  },
  {
   "cell_type": "markdown",
   "metadata": {},
   "source": [
    "As we can see in the plot above, the majority of the vines are the 1,2, and 3 point vines."
   ]
  },
  {
   "cell_type": "markdown",
   "metadata": {},
   "source": [
    "### Days of flowering"
   ]
  },
  {
   "cell_type": "code",
   "execution_count": 153,
   "metadata": {},
   "outputs": [
    {
     "data": {
      "image/png": "[encoded data removed]",
      "text/plain": [
       "<Figure size 720x432 with 1 Axes>"
      ]
     },
     "metadata": {},
     "output_type": "display_data"
    }
   ],
   "source": [
    "#Number of days of flowering by type\n",
    "a=df3.groupby(['Total_points','Location'])['New_flowers'].count()\n",
    "a=pd.DataFrame(a)\n",
    "a.reset_index(inplace=True)\n",
    "a.rename(columns={'New_flowers': 'Days'}, inplace=True)\n",
    "fig, ax = plt.subplots(figsize=(10,6))\n",
    "sns.swarmplot(data=a,x='Total_points',y='Days', hue='Location').get_legend().set_visible(False)"
   ]
  },
  {
   "cell_type": "markdown",
   "metadata": {},
   "source": [
    "# Regression\n",
    "- Intuitively, it feels like there may be a correlation between \"points_flowering\" (currently flowering) and number of new flowers for the day. \n",
    "- Explore possible patternality of new flower occurence:\n",
    "    - a) as a group. Inference is likely common to all vines.\n",
    "    - b) as an individual vine. Possible a factor of 'points_flowering' or specific other conditions.\n",
    " * We only have data of 'type' based on number of flowering points."
   ]
  },
  {
   "cell_type": "markdown",
   "metadata": {},
   "source": [
    "### Compare total flowers with type (Total_points)"
   ]
  },
  {
   "cell_type": "code",
   "execution_count": 154,
   "metadata": {},
   "outputs": [
    {
     "data": {
      "text/plain": [
       "<seaborn.axisgrid.JointGrid at 0x7f88ac887ac0>"
      ]
     },
     "execution_count": 154,
     "metadata": {},
     "output_type": "execute_result"
    },
    {
     "data": {
      "image/png": "[encoded data removed]",
      "text/plain": [
       "<Figure size 432x432 with 3 Axes>"
      ]
     },
     "metadata": {},
     "output_type": "display_data"
    }
   ],
   "source": [
    "a=df3.groupby(['Location']).agg({\n",
    "                         'Total_points': 'mean', \n",
    "                         'New_flowers':'sum', \n",
    "                          })\n",
    "sns.jointplot(data=a,x='Total_points', y='New_flowers')"
   ]
  },
  {
   "cell_type": "markdown",
   "metadata": {},
   "source": [
    "#### Clean up 'Points_flowering' column"
   ]
  },
  {
   "cell_type": "code",
   "execution_count": 155,
   "metadata": {},
   "outputs": [
    {
     "data": {
      "text/html": [
       "<div>\n",
       "<style scoped>\n",
       "    .dataframe tbody tr th:only-of-type {\n",
       "        vertical-align: middle;\n",
       "    }\n",
       "\n",
       "    .dataframe tbody tr th {\n",
       "        vertical-align: top;\n",
       "    }\n",
       "\n",
       "    .dataframe thead th {\n",
       "        text-align: right;\n",
       "    }\n",
       "</style>\n",
       "<table border=\"1\" class=\"dataframe\">\n",
       "  <thead>\n",
       "    <tr style=\"text-align: right;\">\n",
       "      <th></th>\n",
       "      <th>Date</th>\n",
       "      <th>Location</th>\n",
       "      <th>Total_points</th>\n",
       "      <th>Points_flowering</th>\n",
       "      <th>New_flowers</th>\n",
       "      <th>Total_Flowers</th>\n",
       "    </tr>\n",
       "  </thead>\n",
       "  <tbody>\n",
       "  </tbody>\n",
       "</table>\n",
       "</div>"
      ],
      "text/plain": [
       "Empty DataFrame\n",
       "Columns: [Date, Location, Total_points, Points_flowering, New_flowers, Total_Flowers]\n",
       "Index: []"
      ]
     },
     "execution_count": 155,
     "metadata": {},
     "output_type": "execute_result"
    }
   ],
   "source": [
    "# Convert 'Points_flowering' column to reflect only updated count\n",
    "df4=df3.copy(deep=True) #save all previous transformations \n",
    "df4['Points_flowering']=df4['Points_flowering'].str.replace(' ','') #remove blank space in location column\n",
    "df4['Points_flowering']=df4['Points_flowering'].str.replace('–','-') #format of dash made uniform\n",
    "df4['Points_flowering']=df4['Points_flowering'].astype(str)\n",
    "for ind,row in df4.iterrows():\n",
    "    if '->' in row['Points_flowering']:\n",
    "        df4.at[ind,'Points_flowering']=df4.loc[ind,'Points_flowering'].split('->')[1]\n",
    "\n",
    "# Check if succesful        \n",
    "df4[df4['Points_flowering'].str.contains('->', na=False)]"
   ]
  },
  {
   "cell_type": "code",
   "execution_count": 156,
   "metadata": {},
   "outputs": [
    {
     "data": {
      "text/html": [
       "<div>\n",
       "<style scoped>\n",
       "    .dataframe tbody tr th:only-of-type {\n",
       "        vertical-align: middle;\n",
       "    }\n",
       "\n",
       "    .dataframe tbody tr th {\n",
       "        vertical-align: top;\n",
       "    }\n",
       "\n",
       "    .dataframe thead th {\n",
       "        text-align: right;\n",
       "    }\n",
       "</style>\n",
       "<table border=\"1\" class=\"dataframe\">\n",
       "  <thead>\n",
       "    <tr style=\"text-align: right;\">\n",
       "      <th></th>\n",
       "      <th>Date</th>\n",
       "      <th>Location</th>\n",
       "      <th>Total_points</th>\n",
       "      <th>Points_flowering</th>\n",
       "      <th>New_flowers</th>\n",
       "      <th>Total_Flowers</th>\n",
       "    </tr>\n",
       "  </thead>\n",
       "  <tbody>\n",
       "  </tbody>\n",
       "</table>\n",
       "</div>"
      ],
      "text/plain": [
       "Empty DataFrame\n",
       "Columns: [Date, Location, Total_points, Points_flowering, New_flowers, Total_Flowers]\n",
       "Index: []"
      ]
     },
     "execution_count": 156,
     "metadata": {},
     "output_type": "execute_result"
    }
   ],
   "source": [
    "df4[df4['Points_flowering'].str.contains('–>', na=False)]"
   ]
  },
  {
   "cell_type": "markdown",
   "metadata": {},
   "source": [
    "### Compare new flowers with points flowering on a given day\n",
    "Note that a particualr vine may conain 2,3,4.. etc points actively fowering at different points in the season"
   ]
  },
  {
   "cell_type": "code",
   "execution_count": 157,
   "metadata": {},
   "outputs": [
    {
     "data": {
      "text/plain": [
       "<seaborn.axisgrid.JointGrid at 0x7f88a64828e0>"
      ]
     },
     "execution_count": 157,
     "metadata": {},
     "output_type": "execute_result"
    },
    {
     "data": {
      "image/png": "[encoded data removed]",
      "text/plain": [
       "<Figure size 432x432 with 3 Axes>"
      ]
     },
     "metadata": {},
     "output_type": "display_data"
    }
   ],
   "source": [
    "df4['Points_flowering']=df4['Points_flowering'].astype(float)\n",
    "sns.jointplot(data=df4,x='Points_flowering', y='New_flowers')"
   ]
  },
  {
   "cell_type": "code",
   "execution_count": 158,
   "metadata": {},
   "outputs": [],
   "source": [
    "#sns.pairplot(df4)"
   ]
  },
  {
   "cell_type": "markdown",
   "metadata": {},
   "source": [
    "# Pareto of flowering"
   ]
  },
  {
   "cell_type": "code",
   "execution_count": 159,
   "metadata": {},
   "outputs": [
    {
     "data": {
      "text/html": [
       "<div>\n",
       "<style scoped>\n",
       "    .dataframe tbody tr th:only-of-type {\n",
       "        vertical-align: middle;\n",
       "    }\n",
       "\n",
       "    .dataframe tbody tr th {\n",
       "        vertical-align: top;\n",
       "    }\n",
       "\n",
       "    .dataframe thead th {\n",
       "        text-align: right;\n",
       "    }\n",
       "</style>\n",
       "<table border=\"1\" class=\"dataframe\">\n",
       "  <thead>\n",
       "    <tr style=\"text-align: right;\">\n",
       "      <th></th>\n",
       "      <th>New_flowers</th>\n",
       "      <th>Cum_sum</th>\n",
       "      <th>Cum_percentage</th>\n",
       "    </tr>\n",
       "    <tr>\n",
       "      <th>Location</th>\n",
       "      <th></th>\n",
       "      <th></th>\n",
       "      <th></th>\n",
       "    </tr>\n",
       "  </thead>\n",
       "  <tbody>\n",
       "    <tr>\n",
       "      <th>5*4a</th>\n",
       "      <td>202.0</td>\n",
       "      <td>202.0</td>\n",
       "      <td>7.739464</td>\n",
       "    </tr>\n",
       "    <tr>\n",
       "      <th>4*3a2g</th>\n",
       "      <td>202.0</td>\n",
       "      <td>404.0</td>\n",
       "      <td>15.478927</td>\n",
       "    </tr>\n",
       "    <tr>\n",
       "      <th>4*3a</th>\n",
       "      <td>172.0</td>\n",
       "      <td>576.0</td>\n",
       "      <td>22.068966</td>\n",
       "    </tr>\n",
       "    <tr>\n",
       "      <th>3*2ag</th>\n",
       "      <td>144.0</td>\n",
       "      <td>720.0</td>\n",
       "      <td>27.586207</td>\n",
       "    </tr>\n",
       "    <tr>\n",
       "      <th>4*2a</th>\n",
       "      <td>127.0</td>\n",
       "      <td>847.0</td>\n",
       "      <td>32.452107</td>\n",
       "    </tr>\n",
       "  </tbody>\n",
       "</table>\n",
       "</div>"
      ],
      "text/plain": [
       "          New_flowers  Cum_sum  Cum_percentage\n",
       "Location                                      \n",
       "5*4a            202.0    202.0        7.739464\n",
       "4*3a2g          202.0    404.0       15.478927\n",
       "4*3a            172.0    576.0       22.068966\n",
       "3*2ag           144.0    720.0       27.586207\n",
       "4*2a            127.0    847.0       32.452107"
      ]
     },
     "execution_count": 159,
     "metadata": {},
     "output_type": "execute_result"
    }
   ],
   "source": [
    "Loc_max=pd.DataFrame(df4.groupby('Location')['New_flowers'].sum())\n",
    "Loc_max.sort_values(by='New_flowers',ascending=False, inplace=True )\n",
    "Loc_max['Cum_sum']=Loc_max['New_flowers'].cumsum()\n",
    "Loc_max['Cum_percentage']=Loc_max['Cum_sum']*100/Loc_max['New_flowers'].sum()\n",
    "Loc_max.head()"
   ]
  },
  {
   "cell_type": "code",
   "execution_count": 160,
   "metadata": {},
   "outputs": [],
   "source": [
    "Loc_max.reset_index(inplace=True)\n",
    "trace1 = dict(type='bar',\n",
    "    x=Loc_max['Location'],\n",
    "    y=Loc_max['New_flowers'],\n",
    "    marker=dict(\n",
    "        color='#2196F3'\n",
    "    ),\n",
    "    name='New_flowers',\n",
    "    opacity=0.8\n",
    ")\n",
    "\n",
    "trace2 = dict(type='scatter',\n",
    "    x=Loc_max['Location'],\n",
    "    y=Loc_max['Cum_percentage'],\n",
    "    marker=dict(\n",
    "        color='#263238'\n",
    "    ),\n",
    "    line=dict(\n",
    "        color= '#263238', \n",
    "        width= 1.5),\n",
    "    name='Cumulative Percentage',\n",
    "    xaxis='x1', \n",
    "    yaxis='y2' \n",
    ")\n"
   ]
  },
  {
   "cell_type": "code",
   "execution_count": 161,
   "metadata": {},
   "outputs": [],
   "source": [
    "from plotly.offline import download_plotlyjs,init_notebook_mode,plot,iplot\n",
    "import plotly.graph_objs as go"
   ]
  },
  {
   "cell_type": "code",
   "execution_count": 162,
   "metadata": {},
   "outputs": [],
   "source": [
    "data = [trace1, trace2]\n",
    "\n",
    "layout = go.Layout(\n",
    "    title='[Pareto Analysis of Total New Flowers by Locations',\n",
    "    legend= dict(orientation=\"h\"),\n",
    "    \n",
    "    yaxis=dict(\n",
    "        range=[0,202],\n",
    "        title='Total New Flowers',\n",
    "        titlefont=dict(\n",
    "            color=\"#2196F3\"\n",
    "        )\n",
    "    ),\n",
    "    yaxis2=dict(\n",
    "        title='Cumulative Percentage of New Flowers ',\n",
    "        titlefont=dict(\n",
    "            color='#263238'\n",
    "        ),\n",
    "        range=[0,105],\n",
    "        overlaying='y',\n",
    "        anchor='x',\n",
    "        side='right'\n",
    "        )\n",
    "    )\n",
    "\n"
   ]
  },
  {
   "cell_type": "code",
   "execution_count": 163,
   "metadata": {},
   "outputs": [
    {
     "data": {
      "application/vnd.plotly.v1+json": {
       "config": {
        "linkText": "Export to plot.ly",
        "plotlyServerURL": "https://plot.ly",
        "showLink": false
       },
       "data": [
        {
         "marker": {
          "color": "#2196F3"
         },
         "name": "New_flowers",
         "opacity": 0.8,
         "type": "bar",
         "x": [
          "5*4a",
          "4*3a2g",
          "4*3a",
          "3*2ag",
          "4*2a",
          "7*a",
          "10*m",
          "12*2ag",
          "7*3as",
          "10*3m",
          "19*d",
          "5*4as",
          "18*g",
          "23*3a",
          "5*2ag",
          "8*4a2s",
          "9*2a",
          "13*g",
          "20*a",
          "21*g",
          "8*4a",
          "19*2m",
          "11*g",
          "15*2d",
          "7*3a",
          "6*5a",
          "1*4a",
          "12*2g",
          "5*2a",
          "7*2a",
          "7*3a3s",
          "5*3as",
          "7*3a2s",
          "8*d",
          "25*3g",
          "3*3g",
          "17*a",
          "10*2a",
          "8*2d",
          "6*2a",
          "12*m",
          "12*g",
          "17*m",
          "19*2d",
          "18*m",
          "11*a",
          "12*a",
          "2*5a",
          "16*m",
          "19*m"
         ],
         "y": [
          202,
          202,
          172,
          144,
          127,
          108,
          105,
          98,
          91,
          89,
          89,
          86,
          85,
          79,
          73,
          52,
          49,
          48,
          47,
          42,
          39,
          38,
          36,
          36,
          34,
          33,
          31,
          27,
          26,
          25,
          24,
          23,
          23,
          22,
          21,
          20,
          17,
          16,
          15,
          15,
          14,
          13,
          13,
          12,
          10,
          9,
          8,
          8,
          7,
          7
         ]
        },
        {
         "line": {
          "color": "#263238",
          "width": 1.5
         },
         "marker": {
          "color": "#263238"
         },
         "name": "Cumulative Percentage",
         "type": "scatter",
         "x": [
          "5*4a",
          "4*3a2g",
          "4*3a",
          "3*2ag",
          "4*2a",
          "7*a",
          "10*m",
          "12*2ag",
          "7*3as",
          "10*3m",
          "19*d",
          "5*4as",
          "18*g",
          "23*3a",
          "5*2ag",
          "8*4a2s",
          "9*2a",
          "13*g",
          "20*a",
          "21*g",
          "8*4a",
          "19*2m",
          "11*g",
          "15*2d",
          "7*3a",
          "6*5a",
          "1*4a",
          "12*2g",
          "5*2a",
          "7*2a",
          "7*3a3s",
          "5*3as",
          "7*3a2s",
          "8*d",
          "25*3g",
          "3*3g",
          "17*a",
          "10*2a",
          "8*2d",
          "6*2a",
          "12*m",
          "12*g",
          "17*m",
          "19*2d",
          "18*m",
          "11*a",
          "12*a",
          "2*5a",
          "16*m",
          "19*m"
         ],
         "xaxis": "x",
         "y": [
          7.739463601532567,
          15.478927203065133,
          22.06896551724138,
          27.586206896551722,
          32.452107279693486,
          36.59003831417625,
          40.61302681992337,
          44.367816091954026,
          47.8544061302682,
          51.264367816091955,
          54.67432950191571,
          57.969348659003835,
          61.22605363984675,
          64.25287356321839,
          67.04980842911877,
          69.04214559386973,
          70.91954022988506,
          72.75862068965517,
          74.55938697318008,
          76.16858237547893,
          77.66283524904215,
          79.11877394636015,
          80.49808429118774,
          81.87739463601532,
          83.1800766283525,
          84.44444444444444,
          85.63218390804597,
          86.66666666666667,
          87.66283524904215,
          88.62068965517241,
          89.54022988505747,
          90.42145593869732,
          91.30268199233717,
          92.1455938697318,
          92.95019157088123,
          93.71647509578544,
          94.36781609195403,
          94.98084291187739,
          95.55555555555556,
          96.13026819923371,
          96.66666666666667,
          97.16475095785441,
          97.66283524904215,
          98.12260536398468,
          98.50574712643679,
          98.85057471264368,
          99.15708812260536,
          99.46360153256705,
          99.73180076628353,
          100
         ],
         "yaxis": "y2"
        }
       ],
       "layout": {
        "legend": {
         "orientation": "h"
        },
        "template": {
         "data": {
          "bar": [
           {
            "error_x": {
             "color": "#2a3f5f"
            },
            "error_y": {
             "color": "#2a3f5f"
            },
            "marker": {
             "line": {
              "color": "#E5ECF6",
              "width": 0.5
             }
            },
            "type": "bar"
           }
          ],
          "barpolar": [
           {
            "marker": {
             "line": {
              "color": "#E5ECF6",
              "width": 0.5
             }
            },
            "type": "barpolar"
           }
          ],
          "carpet": [
           {
            "aaxis": {
             "endlinecolor": "#2a3f5f",
             "gridcolor": "white",
             "linecolor": "white",
             "minorgridcolor": "white",
             "startlinecolor": "#2a3f5f"
            },
            "baxis": {
             "endlinecolor": "#2a3f5f",
             "gridcolor": "white",
             "linecolor": "white",
             "minorgridcolor": "white",
             "startlinecolor": "#2a3f5f"
            },
            "type": "carpet"
           }
          ],
          "choropleth": [
           {
            "colorbar": {
             "outlinewidth": 0,
             "ticks": ""
            },
            "type": "choropleth"
           }
          ],
          "contour": [
           {
            "colorbar": {
             "outlinewidth": 0,
             "ticks": ""
            },
            "colorscale": [
             [
              0,
              "#0d0887"
             ],
             [
              0.1111111111111111,
              "#46039f"
             ],
             [
              0.2222222222222222,
              "#7201a8"
             ],
             [
              0.3333333333333333,
              "#9c179e"
             ],
             [
              0.4444444444444444,
              "#bd3786"
             ],
             [
              0.5555555555555556,
              "#d8576b"
             ],
             [
              0.6666666666666666,
              "#ed7953"
             ],
             [
              0.7777777777777778,
              "#fb9f3a"
             ],
             [
              0.8888888888888888,
              "#fdca26"
             ],
             [
              1,
              "#f0f921"
             ]
            ],
            "type": "contour"
           }
          ],
          "contourcarpet": [
           {
            "colorbar": {
             "outlinewidth": 0,
             "ticks": ""
            },
            "type": "contourcarpet"
           }
          ],
          "heatmap": [
           {
            "colorbar": {
             "outlinewidth": 0,
             "ticks": ""
            },
            "colorscale": [
             [
              0,
              "#0d0887"
             ],
             [
              0.1111111111111111,
              "#46039f"
             ],
             [
              0.2222222222222222,
              "#7201a8"
             ],
             [
              0.3333333333333333,
              "#9c179e"
             ],
             [
              0.4444444444444444,
              "#bd3786"
             ],
             [
              0.5555555555555556,
              "#d8576b"
             ],
             [
              0.6666666666666666,
              "#ed7953"
             ],
             [
              0.7777777777777778,
              "#fb9f3a"
             ],
             [
              0.8888888888888888,
              "#fdca26"
             ],
             [
              1,
              "#f0f921"
             ]
            ],
            "type": "heatmap"
           }
          ],
          "heatmapgl": [
           {
            "colorbar": {
             "outlinewidth": 0,
             "ticks": ""
            },
            "colorscale": [
             [
              0,
              "#0d0887"
             ],
             [
              0.1111111111111111,
              "#46039f"
             ],
             [
              0.2222222222222222,
              "#7201a8"
             ],
             [
              0.3333333333333333,
              "#9c179e"
             ],
             [
              0.4444444444444444,
              "#bd3786"
             ],
             [
              0.5555555555555556,
              "#d8576b"
             ],
             [
              0.6666666666666666,
              "#ed7953"
             ],
             [
              0.7777777777777778,
              "#fb9f3a"
             ],
             [
              0.8888888888888888,
              "#fdca26"
             ],
             [
              1,
              "#f0f921"
             ]
            ],
            "type": "heatmapgl"
           }
          ],
          "histogram": [
           {
            "marker": {
             "colorbar": {
              "outlinewidth": 0,
              "ticks": ""
             }
            },
            "type": "histogram"
           }
          ],
          "histogram2d": [
           {
            "colorbar": {
             "outlinewidth": 0,
             "ticks": ""
            },
            "colorscale": [
             [
              0,
              "#0d0887"
             ],
             [
              0.1111111111111111,
              "#46039f"
             ],
             [
              0.2222222222222222,
              "#7201a8"
             ],
             [
              0.3333333333333333,
              "#9c179e"
             ],
             [
              0.4444444444444444,
              "#bd3786"
             ],
             [
              0.5555555555555556,
              "#d8576b"
             ],
             [
              0.6666666666666666,
              "#ed7953"
             ],
             [
              0.7777777777777778,
              "#fb9f3a"
             ],
             [
              0.8888888888888888,
              "#fdca26"
             ],
             [
              1,
              "#f0f921"
             ]
            ],
            "type": "histogram2d"
           }
          ],
          "histogram2dcontour": [
           {
            "colorbar": {
             "outlinewidth": 0,
             "ticks": ""
            },
            "colorscale": [
             [
              0,
              "#0d0887"
             ],
             [
              0.1111111111111111,
              "#46039f"
             ],
             [
              0.2222222222222222,
              "#7201a8"
             ],
             [
              0.3333333333333333,
              "#9c179e"
             ],
             [
              0.4444444444444444,
              "#bd3786"
             ],
             [
              0.5555555555555556,
              "#d8576b"
             ],
             [
              0.6666666666666666,
              "#ed7953"
             ],
             [
              0.7777777777777778,
              "#fb9f3a"
             ],
             [
              0.8888888888888888,
              "#fdca26"
             ],
             [
              1,
              "#f0f921"
             ]
            ],
            "type": "histogram2dcontour"
           }
          ],
          "mesh3d": [
           {
            "colorbar": {
             "outlinewidth": 0,
             "ticks": ""
            },
            "type": "mesh3d"
           }
          ],
          "parcoords": [
           {
            "line": {
             "colorbar": {
              "outlinewidth": 0,
              "ticks": ""
             }
            },
            "type": "parcoords"
           }
          ],
          "pie": [
           {
            "automargin": true,
            "type": "pie"
           }
          ],
          "scatter": [
           {
            "marker": {
             "colorbar": {
              "outlinewidth": 0,
              "ticks": ""
             }
            },
            "type": "scatter"
           }
          ],
          "scatter3d": [
           {
            "line": {
             "colorbar": {
              "outlinewidth": 0,
              "ticks": ""
             }
            },
            "marker": {
             "colorbar": {
              "outlinewidth": 0,
              "ticks": ""
             }
            },
            "type": "scatter3d"
           }
          ],
          "scattercarpet": [
           {
            "marker": {
             "colorbar": {
              "outlinewidth": 0,
              "ticks": ""
             }
            },
            "type": "scattercarpet"
           }
          ],
          "scattergeo": [
           {
            "marker": {
             "colorbar": {
              "outlinewidth": 0,
              "ticks": ""
             }
            },
            "type": "scattergeo"
           }
          ],
          "scattergl": [
           {
            "marker": {
             "colorbar": {
              "outlinewidth": 0,
              "ticks": ""
             }
            },
            "type": "scattergl"
           }
          ],
          "scattermapbox": [
           {
            "marker": {
             "colorbar": {
              "outlinewidth": 0,
              "ticks": ""
             }
            },
            "type": "scattermapbox"
           }
          ],
          "scatterpolar": [
           {
            "marker": {
             "colorbar": {
              "outlinewidth": 0,
              "ticks": ""
             }
            },
            "type": "scatterpolar"
           }
          ],
          "scatterpolargl": [
           {
            "marker": {
             "colorbar": {
              "outlinewidth": 0,
              "ticks": ""
             }
            },
            "type": "scatterpolargl"
           }
          ],
          "scatterternary": [
           {
            "marker": {
             "colorbar": {
              "outlinewidth": 0,
              "ticks": ""
             }
            },
            "type": "scatterternary"
           }
          ],
          "surface": [
           {
            "colorbar": {
             "outlinewidth": 0,
             "ticks": ""
            },
            "colorscale": [
             [
              0,
              "#0d0887"
             ],
             [
              0.1111111111111111,
              "#46039f"
             ],
             [
              0.2222222222222222,
              "#7201a8"
             ],
             [
              0.3333333333333333,
              "#9c179e"
             ],
             [
              0.4444444444444444,
              "#bd3786"
             ],
             [
              0.5555555555555556,
              "#d8576b"
             ],
             [
              0.6666666666666666,
              "#ed7953"
             ],
             [
              0.7777777777777778,
              "#fb9f3a"
             ],
             [
              0.8888888888888888,
              "#fdca26"
             ],
             [
              1,
              "#f0f921"
             ]
            ],
            "type": "surface"
           }
          ],
          "table": [
           {
            "cells": {
             "fill": {
              "color": "#EBF0F8"
             },
             "line": {
              "color": "white"
             }
            },
            "header": {
             "fill": {
              "color": "#C8D4E3"
             },
             "line": {
              "color": "white"
             }
            },
            "type": "table"
           }
          ]
         },
         "layout": {
          "annotationdefaults": {
           "arrowcolor": "#2a3f5f",
           "arrowhead": 0,
           "arrowwidth": 1
          },
          "autotypenumbers": "strict",
          "coloraxis": {
           "colorbar": {
            "outlinewidth": 0,
            "ticks": ""
           }
          },
          "colorscale": {
           "diverging": [
            [
             0,
             "#8e0152"
            ],
            [
             0.1,
             "#c51b7d"
            ],
            [
             0.2,
             "#de77ae"
            ],
            [
             0.3,
             "#f1b6da"
            ],
            [
             0.4,
             "#fde0ef"
            ],
            [
             0.5,
             "#f7f7f7"
            ],
            [
             0.6,
             "#e6f5d0"
            ],
            [
             0.7,
             "#b8e186"
            ],
            [
             0.8,
             "#7fbc41"
            ],
            [
             0.9,
             "#4d9221"
            ],
            [
             1,
             "#276419"
            ]
           ],
           "sequential": [
            [
             0,
             "#0d0887"
            ],
            [
             0.1111111111111111,
             "#46039f"
            ],
            [
             0.2222222222222222,
             "#7201a8"
            ],
            [
             0.3333333333333333,
             "#9c179e"
            ],
            [
             0.4444444444444444,
             "#bd3786"
            ],
            [
             0.5555555555555556,
             "#d8576b"
            ],
            [
             0.6666666666666666,
             "#ed7953"
            ],
            [
             0.7777777777777778,
             "#fb9f3a"
            ],
            [
             0.8888888888888888,
             "#fdca26"
            ],
            [
             1,
             "#f0f921"
            ]
           ],
           "sequentialminus": [
            [
             0,
             "#0d0887"
            ],
            [
             0.1111111111111111,
             "#46039f"
            ],
            [
             0.2222222222222222,
             "#7201a8"
            ],
            [
             0.3333333333333333,
             "#9c179e"
            ],
            [
             0.4444444444444444,
             "#bd3786"
            ],
            [
             0.5555555555555556,
             "#d8576b"
            ],
            [
             0.6666666666666666,
             "#ed7953"
            ],
            [
             0.7777777777777778,
             "#fb9f3a"
            ],
            [
             0.8888888888888888,
             "#fdca26"
            ],
            [
             1,
             "#f0f921"
            ]
           ]
          },
          "colorway": [
           "#636efa",
           "#EF553B",
           "#00cc96",
           "#ab63fa",
           "#FFA15A",
           "#19d3f3",
           "#FF6692",
           "#B6E880",
           "#FF97FF",
           "#FECB52"
          ],
          "font": {
           "color": "#2a3f5f"
          },
          "geo": {
           "bgcolor": "white",
           "lakecolor": "white",
           "landcolor": "#E5ECF6",
           "showlakes": true,
           "showland": true,
           "subunitcolor": "white"
          },
          "hoverlabel": {
           "align": "left"
          },
          "hovermode": "closest",
          "mapbox": {
           "style": "light"
          },
          "paper_bgcolor": "white",
          "plot_bgcolor": "#E5ECF6",
          "polar": {
           "angularaxis": {
            "gridcolor": "white",
            "linecolor": "white",
            "ticks": ""
           },
           "bgcolor": "#E5ECF6",
           "radialaxis": {
            "gridcolor": "white",
            "linecolor": "white",
            "ticks": ""
           }
          },
          "scene": {
           "xaxis": {
            "backgroundcolor": "#E5ECF6",
            "gridcolor": "white",
            "gridwidth": 2,
            "linecolor": "white",
            "showbackground": true,
            "ticks": "",
            "zerolinecolor": "white"
           },
           "yaxis": {
            "backgroundcolor": "#E5ECF6",
            "gridcolor": "white",
            "gridwidth": 2,
            "linecolor": "white",
            "showbackground": true,
            "ticks": "",
            "zerolinecolor": "white"
           },
           "zaxis": {
            "backgroundcolor": "#E5ECF6",
            "gridcolor": "white",
            "gridwidth": 2,
            "linecolor": "white",
            "showbackground": true,
            "ticks": "",
            "zerolinecolor": "white"
           }
          },
          "shapedefaults": {
           "line": {
            "color": "#2a3f5f"
           }
          },
          "ternary": {
           "aaxis": {
            "gridcolor": "white",
            "linecolor": "white",
            "ticks": ""
           },
           "baxis": {
            "gridcolor": "white",
            "linecolor": "white",
            "ticks": ""
           },
           "bgcolor": "#E5ECF6",
           "caxis": {
            "gridcolor": "white",
            "linecolor": "white",
            "ticks": ""
           }
          },
          "title": {
           "x": 0.05
          },
          "xaxis": {
           "automargin": true,
           "gridcolor": "white",
           "linecolor": "white",
           "ticks": "",
           "title": {
            "standoff": 15
           },
           "zerolinecolor": "white",
           "zerolinewidth": 2
          },
          "yaxis": {
           "automargin": true,
           "gridcolor": "white",
           "linecolor": "white",
           "ticks": "",
           "title": {
            "standoff": 15
           },
           "zerolinecolor": "white",
           "zerolinewidth": 2
          }
         }
        },
        "title": {
         "text": "[Pareto Analysis of Total New Flowers by Locations"
        },
        "yaxis": {
         "range": [
          0,
          202
         ],
         "title": {
          "font": {
           "color": "#2196F3"
          },
          "text": "Total New Flowers"
         }
        },
        "yaxis2": {
         "anchor": "x",
         "overlaying": "y",
         "range": [
          0,
          105
         ],
         "side": "right",
         "title": {
          "font": {
           "color": "#263238"
          },
          "text": "Cumulative Percentage of New Flowers "
         }
        }
       }
      },
      "text/html": [
       "<div>                            <div id=\"a75b15d8-290d-4ed8-a7d4-2706e89994a5\" class=\"plotly-graph-div\" style=\"height:525px; width:100%;\"></div>            <script type=\"text/javascript\">                require([\"plotly\"], function(Plotly) {                    window.PLOTLYENV=window.PLOTLYENV || {};                                    if (document.getElementById(\"a75b15d8-290d-4ed8-a7d4-2706e89994a5\")) {                    Plotly.newPlot(                        \"a75b15d8-290d-4ed8-a7d4-2706e89994a5\",                        [{\"marker\": {\"color\": \"#2196F3\"}, \"name\": \"New_flowers\", \"opacity\": 0.8, \"type\": \"bar\", \"x\": [\"5*4a\", \"4*3a2g\", \"4*3a\", \"3*2ag\", \"4*2a\", \"7*a\", \"10*m\", \"12*2ag\", \"7*3as\", \"10*3m\", \"19*d\", \"5*4as\", \"18*g\", \"23*3a\", \"5*2ag\", \"8*4a2s\", \"9*2a\", \"13*g\", \"20*a\", \"21*g\", \"8*4a\", \"19*2m\", \"11*g\", \"15*2d\", \"7*3a\", \"6*5a\", \"1*4a\", \"12*2g\", \"5*2a\", \"7*2a\", \"7*3a3s\", \"5*3as\", \"7*3a2s\", \"8*d\", \"25*3g\", \"3*3g\", \"17*a\", \"10*2a\", \"8*2d\", \"6*2a\", \"12*m\", \"12*g\", \"17*m\", \"19*2d\", \"18*m\", \"11*a\", \"12*a\", \"2*5a\", \"16*m\", \"19*m\"], \"y\": [202.0, 202.0, 172.0, 144.0, 127.0, 108.0, 105.0, 98.0, 91.0, 89.0, 89.0, 86.0, 85.0, 79.0, 73.0, 52.0, 49.0, 48.0, 47.0, 42.0, 39.0, 38.0, 36.0, 36.0, 34.0, 33.0, 31.0, 27.0, 26.0, 25.0, 24.0, 23.0, 23.0, 22.0, 21.0, 20.0, 17.0, 16.0, 15.0, 15.0, 14.0, 13.0, 13.0, 12.0, 10.0, 9.0, 8.0, 8.0, 7.0, 7.0]}, {\"line\": {\"color\": \"#263238\", \"width\": 1.5}, \"marker\": {\"color\": \"#263238\"}, \"name\": \"Cumulative Percentage\", \"type\": \"scatter\", \"x\": [\"5*4a\", \"4*3a2g\", \"4*3a\", \"3*2ag\", \"4*2a\", \"7*a\", \"10*m\", \"12*2ag\", \"7*3as\", \"10*3m\", \"19*d\", \"5*4as\", \"18*g\", \"23*3a\", \"5*2ag\", \"8*4a2s\", \"9*2a\", \"13*g\", \"20*a\", \"21*g\", \"8*4a\", \"19*2m\", \"11*g\", \"15*2d\", \"7*3a\", \"6*5a\", \"1*4a\", \"12*2g\", \"5*2a\", \"7*2a\", \"7*3a3s\", \"5*3as\", \"7*3a2s\", \"8*d\", \"25*3g\", \"3*3g\", \"17*a\", \"10*2a\", \"8*2d\", \"6*2a\", \"12*m\", \"12*g\", \"17*m\", \"19*2d\", \"18*m\", \"11*a\", \"12*a\", \"2*5a\", \"16*m\", \"19*m\"], \"xaxis\": \"x\", \"y\": [7.739463601532567, 15.478927203065133, 22.06896551724138, 27.586206896551722, 32.452107279693486, 36.59003831417625, 40.61302681992337, 44.367816091954026, 47.8544061302682, 51.264367816091955, 54.67432950191571, 57.969348659003835, 61.22605363984675, 64.25287356321839, 67.04980842911877, 69.04214559386973, 70.91954022988506, 72.75862068965517, 74.55938697318008, 76.16858237547893, 77.66283524904215, 79.11877394636015, 80.49808429118774, 81.87739463601532, 83.1800766283525, 84.44444444444444, 85.63218390804597, 86.66666666666667, 87.66283524904215, 88.62068965517241, 89.54022988505747, 90.42145593869732, 91.30268199233717, 92.1455938697318, 92.95019157088123, 93.71647509578544, 94.36781609195403, 94.98084291187739, 95.55555555555556, 96.13026819923371, 96.66666666666667, 97.16475095785441, 97.66283524904215, 98.12260536398468, 98.50574712643679, 98.85057471264368, 99.15708812260536, 99.46360153256705, 99.73180076628353, 100.0], \"yaxis\": \"y2\"}],                        {\"legend\": {\"orientation\": \"h\"}, \"template\": {\"data\": {\"bar\": [{\"error_x\": {\"color\": \"#2a3f5f\"}, \"error_y\": {\"color\": \"#2a3f5f\"}, \"marker\": {\"line\": {\"color\": \"#E5ECF6\", \"width\": 0.5}}, \"type\": \"bar\"}], \"barpolar\": [{\"marker\": {\"line\": {\"color\": \"#E5ECF6\", \"width\": 0.5}}, \"type\": \"barpolar\"}], \"carpet\": [{\"aaxis\": {\"endlinecolor\": \"#2a3f5f\", \"gridcolor\": \"white\", \"linecolor\": \"white\", \"minorgridcolor\": \"white\", \"startlinecolor\": \"#2a3f5f\"}, \"baxis\": {\"endlinecolor\": \"#2a3f5f\", \"gridcolor\": \"white\", \"linecolor\": \"white\", \"minorgridcolor\": \"white\", \"startlinecolor\": \"#2a3f5f\"}, \"type\": \"carpet\"}], \"choropleth\": [{\"colorbar\": {\"outlinewidth\": 0, \"ticks\": \"\"}, \"type\": \"choropleth\"}], \"contour\": [{\"colorbar\": {\"outlinewidth\": 0, \"ticks\": \"\"}, \"colorscale\": [[0.0, \"#0d0887\"], [0.1111111111111111, \"#46039f\"], [0.2222222222222222, \"#7201a8\"], [0.3333333333333333, \"#9c179e\"], [0.4444444444444444, \"#bd3786\"], [0.5555555555555556, \"#d8576b\"], [0.6666666666666666, \"#ed7953\"], [0.7777777777777778, \"#fb9f3a\"], [0.8888888888888888, \"#fdca26\"], [1.0, \"#f0f921\"]], \"type\": \"contour\"}], \"contourcarpet\": [{\"colorbar\": {\"outlinewidth\": 0, \"ticks\": \"\"}, \"type\": \"contourcarpet\"}], \"heatmap\": [{\"colorbar\": {\"outlinewidth\": 0, \"ticks\": \"\"}, \"colorscale\": [[0.0, \"#0d0887\"], [0.1111111111111111, \"#46039f\"], [0.2222222222222222, \"#7201a8\"], [0.3333333333333333, \"#9c179e\"], [0.4444444444444444, \"#bd3786\"], [0.5555555555555556, \"#d8576b\"], [0.6666666666666666, \"#ed7953\"], [0.7777777777777778, \"#fb9f3a\"], [0.8888888888888888, \"#fdca26\"], [1.0, \"#f0f921\"]], \"type\": \"heatmap\"}], \"heatmapgl\": [{\"colorbar\": {\"outlinewidth\": 0, \"ticks\": \"\"}, \"colorscale\": [[0.0, \"#0d0887\"], [0.1111111111111111, \"#46039f\"], [0.2222222222222222, \"#7201a8\"], [0.3333333333333333, \"#9c179e\"], [0.4444444444444444, \"#bd3786\"], [0.5555555555555556, \"#d8576b\"], [0.6666666666666666, \"#ed7953\"], [0.7777777777777778, \"#fb9f3a\"], [0.8888888888888888, \"#fdca26\"], [1.0, \"#f0f921\"]], \"type\": \"heatmapgl\"}], \"histogram\": [{\"marker\": {\"colorbar\": {\"outlinewidth\": 0, \"ticks\": \"\"}}, \"type\": \"histogram\"}], \"histogram2d\": [{\"colorbar\": {\"outlinewidth\": 0, \"ticks\": \"\"}, \"colorscale\": [[0.0, \"#0d0887\"], [0.1111111111111111, \"#46039f\"], [0.2222222222222222, \"#7201a8\"], [0.3333333333333333, \"#9c179e\"], [0.4444444444444444, \"#bd3786\"], [0.5555555555555556, \"#d8576b\"], [0.6666666666666666, \"#ed7953\"], [0.7777777777777778, \"#fb9f3a\"], [0.8888888888888888, \"#fdca26\"], [1.0, \"#f0f921\"]], \"type\": \"histogram2d\"}], \"histogram2dcontour\": [{\"colorbar\": {\"outlinewidth\": 0, \"ticks\": \"\"}, \"colorscale\": [[0.0, \"#0d0887\"], [0.1111111111111111, \"#46039f\"], [0.2222222222222222, \"#7201a8\"], [0.3333333333333333, \"#9c179e\"], [0.4444444444444444, \"#bd3786\"], [0.5555555555555556, \"#d8576b\"], [0.6666666666666666, \"#ed7953\"], [0.7777777777777778, \"#fb9f3a\"], [0.8888888888888888, \"#fdca26\"], [1.0, \"#f0f921\"]], \"type\": \"histogram2dcontour\"}], \"mesh3d\": [{\"colorbar\": {\"outlinewidth\": 0, \"ticks\": \"\"}, \"type\": \"mesh3d\"}], \"parcoords\": [{\"line\": {\"colorbar\": {\"outlinewidth\": 0, \"ticks\": \"\"}}, \"type\": \"parcoords\"}], \"pie\": [{\"automargin\": true, \"type\": \"pie\"}], \"scatter\": [{\"marker\": {\"colorbar\": {\"outlinewidth\": 0, \"ticks\": \"\"}}, \"type\": \"scatter\"}], \"scatter3d\": [{\"line\": {\"colorbar\": {\"outlinewidth\": 0, \"ticks\": \"\"}}, \"marker\": {\"colorbar\": {\"outlinewidth\": 0, \"ticks\": \"\"}}, \"type\": \"scatter3d\"}], \"scattercarpet\": [{\"marker\": {\"colorbar\": {\"outlinewidth\": 0, \"ticks\": \"\"}}, \"type\": \"scattercarpet\"}], \"scattergeo\": [{\"marker\": {\"colorbar\": {\"outlinewidth\": 0, \"ticks\": \"\"}}, \"type\": \"scattergeo\"}], \"scattergl\": [{\"marker\": {\"colorbar\": {\"outlinewidth\": 0, \"ticks\": \"\"}}, \"type\": \"scattergl\"}], \"scattermapbox\": [{\"marker\": {\"colorbar\": {\"outlinewidth\": 0, \"ticks\": \"\"}}, \"type\": \"scattermapbox\"}], \"scatterpolar\": [{\"marker\": {\"colorbar\": {\"outlinewidth\": 0, \"ticks\": \"\"}}, \"type\": \"scatterpolar\"}], \"scatterpolargl\": [{\"marker\": {\"colorbar\": {\"outlinewidth\": 0, \"ticks\": \"\"}}, \"type\": \"scatterpolargl\"}], \"scatterternary\": [{\"marker\": {\"colorbar\": {\"outlinewidth\": 0, \"ticks\": \"\"}}, \"type\": \"scatterternary\"}], \"surface\": [{\"colorbar\": {\"outlinewidth\": 0, \"ticks\": \"\"}, \"colorscale\": [[0.0, \"#0d0887\"], [0.1111111111111111, \"#46039f\"], [0.2222222222222222, \"#7201a8\"], [0.3333333333333333, \"#9c179e\"], [0.4444444444444444, \"#bd3786\"], [0.5555555555555556, \"#d8576b\"], [0.6666666666666666, \"#ed7953\"], [0.7777777777777778, \"#fb9f3a\"], [0.8888888888888888, \"#fdca26\"], [1.0, \"#f0f921\"]], \"type\": \"surface\"}], \"table\": [{\"cells\": {\"fill\": {\"color\": \"#EBF0F8\"}, \"line\": {\"color\": \"white\"}}, \"header\": {\"fill\": {\"color\": \"#C8D4E3\"}, \"line\": {\"color\": \"white\"}}, \"type\": \"table\"}]}, \"layout\": {\"annotationdefaults\": {\"arrowcolor\": \"#2a3f5f\", \"arrowhead\": 0, \"arrowwidth\": 1}, \"autotypenumbers\": \"strict\", \"coloraxis\": {\"colorbar\": {\"outlinewidth\": 0, \"ticks\": \"\"}}, \"colorscale\": {\"diverging\": [[0, \"#8e0152\"], [0.1, \"#c51b7d\"], [0.2, \"#de77ae\"], [0.3, \"#f1b6da\"], [0.4, \"#fde0ef\"], [0.5, \"#f7f7f7\"], [0.6, \"#e6f5d0\"], [0.7, \"#b8e186\"], [0.8, \"#7fbc41\"], [0.9, \"#4d9221\"], [1, \"#276419\"]], \"sequential\": [[0.0, \"#0d0887\"], [0.1111111111111111, \"#46039f\"], [0.2222222222222222, \"#7201a8\"], [0.3333333333333333, \"#9c179e\"], [0.4444444444444444, \"#bd3786\"], [0.5555555555555556, \"#d8576b\"], [0.6666666666666666, \"#ed7953\"], [0.7777777777777778, \"#fb9f3a\"], [0.8888888888888888, \"#fdca26\"], [1.0, \"#f0f921\"]], \"sequentialminus\": [[0.0, \"#0d0887\"], [0.1111111111111111, \"#46039f\"], [0.2222222222222222, \"#7201a8\"], [0.3333333333333333, \"#9c179e\"], [0.4444444444444444, \"#bd3786\"], [0.5555555555555556, \"#d8576b\"], [0.6666666666666666, \"#ed7953\"], [0.7777777777777778, \"#fb9f3a\"], [0.8888888888888888, \"#fdca26\"], [1.0, \"#f0f921\"]]}, \"colorway\": [\"#636efa\", \"#EF553B\", \"#00cc96\", \"#ab63fa\", \"#FFA15A\", \"#19d3f3\", \"#FF6692\", \"#B6E880\", \"#FF97FF\", \"#FECB52\"], \"font\": {\"color\": \"#2a3f5f\"}, \"geo\": {\"bgcolor\": \"white\", \"lakecolor\": \"white\", \"landcolor\": \"#E5ECF6\", \"showlakes\": true, \"showland\": true, \"subunitcolor\": \"white\"}, \"hoverlabel\": {\"align\": \"left\"}, \"hovermode\": \"closest\", \"mapbox\": {\"style\": \"light\"}, \"paper_bgcolor\": \"white\", \"plot_bgcolor\": \"#E5ECF6\", \"polar\": {\"angularaxis\": {\"gridcolor\": \"white\", \"linecolor\": \"white\", \"ticks\": \"\"}, \"bgcolor\": \"#E5ECF6\", \"radialaxis\": {\"gridcolor\": \"white\", \"linecolor\": \"white\", \"ticks\": \"\"}}, \"scene\": {\"xaxis\": {\"backgroundcolor\": \"#E5ECF6\", \"gridcolor\": \"white\", \"gridwidth\": 2, \"linecolor\": \"white\", \"showbackground\": true, \"ticks\": \"\", \"zerolinecolor\": \"white\"}, \"yaxis\": {\"backgroundcolor\": \"#E5ECF6\", \"gridcolor\": \"white\", \"gridwidth\": 2, \"linecolor\": \"white\", \"showbackground\": true, \"ticks\": \"\", \"zerolinecolor\": \"white\"}, \"zaxis\": {\"backgroundcolor\": \"#E5ECF6\", \"gridcolor\": \"white\", \"gridwidth\": 2, \"linecolor\": \"white\", \"showbackground\": true, \"ticks\": \"\", \"zerolinecolor\": \"white\"}}, \"shapedefaults\": {\"line\": {\"color\": \"#2a3f5f\"}}, \"ternary\": {\"aaxis\": {\"gridcolor\": \"white\", \"linecolor\": \"white\", \"ticks\": \"\"}, \"baxis\": {\"gridcolor\": \"white\", \"linecolor\": \"white\", \"ticks\": \"\"}, \"bgcolor\": \"#E5ECF6\", \"caxis\": {\"gridcolor\": \"white\", \"linecolor\": \"white\", \"ticks\": \"\"}}, \"title\": {\"x\": 0.05}, \"xaxis\": {\"automargin\": true, \"gridcolor\": \"white\", \"linecolor\": \"white\", \"ticks\": \"\", \"title\": {\"standoff\": 15}, \"zerolinecolor\": \"white\", \"zerolinewidth\": 2}, \"yaxis\": {\"automargin\": true, \"gridcolor\": \"white\", \"linecolor\": \"white\", \"ticks\": \"\", \"title\": {\"standoff\": 15}, \"zerolinecolor\": \"white\", \"zerolinewidth\": 2}}}, \"title\": {\"text\": \"[Pareto Analysis of Total New Flowers by Locations\"}, \"yaxis\": {\"range\": [0, 202], \"title\": {\"font\": {\"color\": \"#2196F3\"}, \"text\": \"Total New Flowers\"}}, \"yaxis2\": {\"anchor\": \"x\", \"overlaying\": \"y\", \"range\": [0, 105], \"side\": \"right\", \"title\": {\"font\": {\"color\": \"#263238\"}, \"text\": \"Cumulative Percentage of New Flowers \"}}},                        {\"responsive\": true}                    ).then(function(){\n",
       "                            \n",
       "var gd = document.getElementById('a75b15d8-290d-4ed8-a7d4-2706e89994a5');\n",
       "var x = new MutationObserver(function (mutations, observer) {{\n",
       "        var display = window.getComputedStyle(gd).display;\n",
       "        if (!display || display === 'none') {{\n",
       "            console.log([gd, 'removed!']);\n",
       "            Plotly.purge(gd);\n",
       "            observer.disconnect();\n",
       "        }}\n",
       "}});\n",
       "\n",
       "// Listen for the removal of the full notebook cells\n",
       "var notebookContainer = gd.closest('#notebook-container');\n",
       "if (notebookContainer) {{\n",
       "    x.observe(notebookContainer, {childList: true});\n",
       "}}\n",
       "\n",
       "// Listen for the clearing of the current output cell\n",
       "var outputEl = gd.closest('.output');\n",
       "if (outputEl) {{\n",
       "    x.observe(outputEl, {childList: true});\n",
       "}}\n",
       "\n",
       "                        })                };                });            </script>        </div>"
      ]
     },
     "metadata": {},
     "output_type": "display_data"
    }
   ],
   "source": [
    "fig = go.Figure(data=data, layout=layout)\n",
    "iplot(fig, filename=\"pareto\")"
   ]
  },
  {
   "cell_type": "markdown",
   "metadata": {},
   "source": [
    "## Total number of new flowers"
   ]
  },
  {
   "cell_type": "code",
   "execution_count": 164,
   "metadata": {},
   "outputs": [
    {
     "name": "stdout",
     "output_type": "stream",
     "text": [
      "2610.0\n"
     ]
    }
   ],
   "source": [
    "Total = df4['New_flowers'].sum()\n",
    "print (Total)"
   ]
  },
  {
   "cell_type": "code",
   "execution_count": 165,
   "metadata": {},
   "outputs": [
    {
     "data": {
      "text/plain": [
       "35.541361203031926"
      ]
     },
     "execution_count": 165,
     "metadata": {},
     "output_type": "execute_result"
    }
   ],
   "source": [
    "# Standard deviation\n",
    "#df4[ \"New_flowers\"].fillna(0)\n",
    "std_df = df4.groupby(\"Date\")[ \"New_flowers\"].sum()\n",
    "std_df.std()"
   ]
  },
  {
   "cell_type": "code",
   "execution_count": null,
   "metadata": {},
   "outputs": [],
   "source": [
    "#Total number of dates\n",
    "n = len(pd.unique(df4['Date'])) \n",
    "  \n",
    "print(\"No.of.unique values :\",  \n",
    "      n)"
   ]
  },
  {
   "cell_type": "markdown",
   "metadata": {},
   "source": [
    "## What questions can be answered with improving year on year data:\n",
    "**Data collection from drone-phase1 :**\n",
    "* Inputs from a drone flight on a given day: \n",
    "    1. Number of locations- New ones may be discovered on some days\n",
    "    2. Number of points_flowering(active)- if it has detected a flower once set 'active' flag\n",
    "    3. Total number of new flowers.\n",
    "\n",
    "**Immediate intelligence**\n",
    "1. Best walking route to pollinate the flowers.\n",
    "    \n",
    "**Based on data gathered from previous years (from the data lake) we could possibly infer:**\n",
    "* Where on the normal distribution curve we are, and hence:\n",
    "    * Number of flowers which have been lost (previous dates)\n",
    "    * Number of flowers which are yet to arrive in future.\n",
    "    \n",
    "\n"
   ]
  }
 ],
 "metadata": {
  "kernelspec": {
   "display_name": "Python 3",
   "language": "python",
   "name": "python3"
  },
  "language_info": {
   "codemirror_mode": {
    "name": "ipython",
    "version": 3
   },
   "file_extension": ".py",
   "mimetype": "text/x-python",
   "name": "python",
   "nbconvert_exporter": "python",
   "pygments_lexer": "ipython3",
   "version": "3.8.5"
  }
 },
 "nbformat": 4,
 "nbformat_minor": 2
}
